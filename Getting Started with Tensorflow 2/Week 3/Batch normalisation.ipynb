{
 "cells": [
  {
   "cell_type": "markdown",
   "metadata": {},
   "source": [
    "# Batch normalisation layers\n",
    "\n",
    "In this reading we will look at incorporating batch normalisation into our models and look at an example of how we do this in practice.\n",
    "\n",
    "As usual, let's first import tensorflow."
   ]
  },
  {
   "cell_type": "code",
   "execution_count": 1,
   "metadata": {},
   "outputs": [
    {
     "name": "stdout",
     "output_type": "stream",
     "text": [
      "2.0.0\n"
     ]
    }
   ],
   "source": [
    "import tensorflow as tf\n",
    "print(tf.__version__)"
   ]
  },
  {
   "cell_type": "markdown",
   "metadata": {},
   "source": [
    "We will be working with the diabetes dataset that we have been using in this week's screencasts. \n",
    "\n",
    "Let's load and pre-process the dataset."
   ]
  },
  {
   "cell_type": "code",
   "execution_count": 2,
   "metadata": {},
   "outputs": [],
   "source": [
    "# Load the dataset\n",
    "\n",
    "from sklearn.datasets import load_diabetes\n",
    "diabetes_dataset = load_diabetes()"
   ]
  },
  {
   "cell_type": "code",
   "execution_count": 3,
   "metadata": {},
   "outputs": [],
   "source": [
    "# Save the input and target variables\n",
    "\n",
    "from sklearn.model_selection import train_test_split\n",
    "\n",
    "data = diabetes_dataset['data']\n",
    "targets = diabetes_dataset['target']"
   ]
  },
  {
   "cell_type": "code",
   "execution_count": 4,
   "metadata": {},
   "outputs": [],
   "source": [
    "# Normalise the target data (this will make clearer training curves)\n",
    "\n",
    "targets = (targets - targets.mean(axis=0)) / (targets.std())"
   ]
  },
  {
   "cell_type": "code",
   "execution_count": 5,
   "metadata": {},
   "outputs": [],
   "source": [
    "# Split the dataset into training and test datasets \n",
    "\n",
    "train_data, test_data, train_targets, test_targets = train_test_split(data, targets, test_size=0.1)"
   ]
  },
  {
   "cell_type": "markdown",
   "metadata": {},
   "source": [
    "### Batch normalisation - defining the model"
   ]
  },
  {
   "cell_type": "markdown",
   "metadata": {},
   "source": [
    "We can implement batch normalisation into our model by adding it in the same way as any other layer."
   ]
  },
  {
   "cell_type": "code",
   "execution_count": 6,
   "metadata": {},
   "outputs": [],
   "source": [
    "from tensorflow.keras.models import Sequential\n",
    "from tensorflow.keras.layers import Flatten, Dense, Conv2D, MaxPooling2D, BatchNormalization, Dropout"
   ]
  },
  {
   "cell_type": "code",
   "execution_count": 7,
   "metadata": {},
   "outputs": [],
   "source": [
    "# Build the model\n",
    "\n",
    "model = Sequential([\n",
    "    Dense(64, input_shape=[train_data.shape[1],], activation=\"relu\"),\n",
    "    BatchNormalization(),  # <- Batch normalisation layer\n",
    "    Dropout(0.5),\n",
    "    BatchNormalization(),  # <- Batch normalisation layer\n",
    "    Dropout(0.5),\n",
    "    Dense(256, activation='relu'),\n",
    "])\n",
    "\n",
    "# NB: We have not added the output layer because we still have more layers to add!"
   ]
  },
  {
   "cell_type": "code",
   "execution_count": 8,
   "metadata": {
    "scrolled": true
   },
   "outputs": [
    {
     "name": "stdout",
     "output_type": "stream",
     "text": [
      "Model: \"sequential\"\n",
      "_________________________________________________________________\n",
      "Layer (type)                 Output Shape              Param #   \n",
      "=================================================================\n",
      "dense (Dense)                (None, 64)                704       \n",
      "_________________________________________________________________\n",
      "batch_normalization (BatchNo (None, 64)                256       \n",
      "_________________________________________________________________\n",
      "dropout (Dropout)            (None, 64)                0         \n",
      "_________________________________________________________________\n",
      "batch_normalization_1 (Batch (None, 64)                256       \n",
      "_________________________________________________________________\n",
      "dropout_1 (Dropout)          (None, 64)                0         \n",
      "_________________________________________________________________\n",
      "dense_1 (Dense)              (None, 256)               16640     \n",
      "=================================================================\n",
      "Total params: 17,856\n",
      "Trainable params: 17,600\n",
      "Non-trainable params: 256\n",
      "_________________________________________________________________\n"
     ]
    }
   ],
   "source": [
    "# Print the model summary\n",
    "\n",
    "model.summary()"
   ]
  },
  {
   "cell_type": "markdown",
   "metadata": {},
   "source": [
    "Recall that there are some parameters and hyperparameters associated with batch normalisation.\n",
    "\n",
    "* The hyperparameter **momentum** is the weighting given to the previous running mean when re-computing it with an extra minibatch. By **default**, it is set to 0.99.\n",
    "\n",
    "* The hyperparameter **$\\epsilon$** is used for numeric stability when performing the normalisation over the minibatch. By **default** it is set to 0.001.\n",
    "\n",
    "* The parameters **$\\beta$** and **$\\gamma$** are used to implement an affine transformation after normalisation. By **default**, $\\beta$ is an all-zeros vector, and $\\gamma$ is an all-ones vector.\n",
    "\n",
    "### Customising parameters\n",
    "These can all be changed (along with various other properties) by adding optional arguments to `tf.keras.layers.BatchNormalization()`.\n",
    "\n",
    "We can also specify the axis for batch normalisation. By default, it is set as -1.\n",
    "\n",
    "Let's see an example."
   ]
  },
  {
   "cell_type": "code",
   "execution_count": 9,
   "metadata": {},
   "outputs": [],
   "source": [
    "# Add a customised batch normalisation layer\n",
    "\n",
    "model.add(tf.keras.layers.BatchNormalization(\n",
    "    momentum=0.95, \n",
    "    epsilon=0.005,\n",
    "    axis = -1,\n",
    "    beta_initializer=tf.keras.initializers.RandomNormal(mean=0.0, stddev=0.05), \n",
    "    gamma_initializer=tf.keras.initializers.Constant(value=0.9)\n",
    "))"
   ]
  },
  {
   "cell_type": "code",
   "execution_count": 10,
   "metadata": {},
   "outputs": [],
   "source": [
    "# Add the output layer\n",
    "\n",
    "model.add(Dense(1))"
   ]
  },
  {
   "cell_type": "markdown",
   "metadata": {},
   "source": [
    "## Compile and fit the model"
   ]
  },
  {
   "cell_type": "markdown",
   "metadata": {},
   "source": [
    "Let's now compile and fit our model with batch normalisation, and track the progress on training and validation sets.\n",
    "\n",
    "First we compile our model."
   ]
  },
  {
   "cell_type": "code",
   "execution_count": 11,
   "metadata": {},
   "outputs": [],
   "source": [
    "# Compile the model\n",
    "\n",
    "model.compile(optimizer='adam',\n",
    "              loss='mse',\n",
    "              metrics=['mae'])"
   ]
  },
  {
   "cell_type": "markdown",
   "metadata": {},
   "source": [
    "Now we fit the model to the data."
   ]
  },
  {
   "cell_type": "code",
   "execution_count": 14,
   "metadata": {},
   "outputs": [
    {
     "name": "stdout",
     "output_type": "stream",
     "text": [
      "Train on 337 samples, validate on 60 samples\n",
      "Epoch 1/100\n",
      "337/337 - 0s - loss: 0.6150 - mae: 0.6247 - val_loss: 0.7754 - val_mae: 0.7192\n",
      "Epoch 2/100\n",
      "337/337 - 0s - loss: 0.5311 - mae: 0.5997 - val_loss: 0.7706 - val_mae: 0.7169\n",
      "Epoch 3/100\n",
      "337/337 - 0s - loss: 0.5471 - mae: 0.6071 - val_loss: 0.7799 - val_mae: 0.7162\n",
      "Epoch 4/100\n",
      "337/337 - 0s - loss: 0.5252 - mae: 0.5753 - val_loss: 0.8090 - val_mae: 0.7260\n",
      "Epoch 5/100\n",
      "337/337 - 0s - loss: 0.5724 - mae: 0.6149 - val_loss: 0.7875 - val_mae: 0.7164\n",
      "Epoch 6/100\n",
      "337/337 - 0s - loss: 0.5827 - mae: 0.6150 - val_loss: 0.7812 - val_mae: 0.7077\n",
      "Epoch 7/100\n",
      "337/337 - 0s - loss: 0.5689 - mae: 0.6215 - val_loss: 0.7770 - val_mae: 0.7092\n",
      "Epoch 8/100\n",
      "337/337 - 0s - loss: 0.5911 - mae: 0.6106 - val_loss: 0.7544 - val_mae: 0.7069\n",
      "Epoch 9/100\n",
      "337/337 - 0s - loss: 0.5589 - mae: 0.5964 - val_loss: 0.7438 - val_mae: 0.6991\n",
      "Epoch 10/100\n",
      "337/337 - 0s - loss: 0.5304 - mae: 0.5781 - val_loss: 0.7604 - val_mae: 0.7041\n",
      "Epoch 11/100\n",
      "337/337 - 0s - loss: 0.5458 - mae: 0.5979 - val_loss: 0.7494 - val_mae: 0.6969\n",
      "Epoch 12/100\n",
      "337/337 - 0s - loss: 0.5328 - mae: 0.5965 - val_loss: 0.7390 - val_mae: 0.6912\n",
      "Epoch 13/100\n",
      "337/337 - 0s - loss: 0.5292 - mae: 0.5804 - val_loss: 0.7392 - val_mae: 0.6936\n",
      "Epoch 14/100\n",
      "337/337 - 0s - loss: 0.5372 - mae: 0.6048 - val_loss: 0.7211 - val_mae: 0.6867\n",
      "Epoch 15/100\n",
      "337/337 - 0s - loss: 0.5366 - mae: 0.5986 - val_loss: 0.7143 - val_mae: 0.6848\n",
      "Epoch 16/100\n",
      "337/337 - 0s - loss: 0.5204 - mae: 0.5850 - val_loss: 0.7215 - val_mae: 0.6902\n",
      "Epoch 17/100\n",
      "337/337 - 0s - loss: 0.6051 - mae: 0.6313 - val_loss: 0.7432 - val_mae: 0.6994\n",
      "Epoch 18/100\n",
      "337/337 - 0s - loss: 0.5525 - mae: 0.5885 - val_loss: 0.7543 - val_mae: 0.7001\n",
      "Epoch 19/100\n",
      "337/337 - 0s - loss: 0.5438 - mae: 0.5871 - val_loss: 0.7608 - val_mae: 0.6977\n",
      "Epoch 20/100\n",
      "337/337 - 0s - loss: 0.5147 - mae: 0.5857 - val_loss: 0.7529 - val_mae: 0.6926\n",
      "Epoch 21/100\n",
      "337/337 - 0s - loss: 0.5351 - mae: 0.5905 - val_loss: 0.7582 - val_mae: 0.6961\n",
      "Epoch 22/100\n",
      "337/337 - 0s - loss: 0.5441 - mae: 0.5873 - val_loss: 0.7320 - val_mae: 0.6897\n",
      "Epoch 23/100\n",
      "337/337 - 0s - loss: 0.5301 - mae: 0.5937 - val_loss: 0.7047 - val_mae: 0.6749\n",
      "Epoch 24/100\n",
      "337/337 - 0s - loss: 0.5116 - mae: 0.5692 - val_loss: 0.6976 - val_mae: 0.6662\n",
      "Epoch 25/100\n",
      "337/337 - 0s - loss: 0.5309 - mae: 0.5911 - val_loss: 0.6939 - val_mae: 0.6619\n",
      "Epoch 26/100\n",
      "337/337 - 0s - loss: 0.5026 - mae: 0.5726 - val_loss: 0.7060 - val_mae: 0.6680\n",
      "Epoch 27/100\n",
      "337/337 - 0s - loss: 0.5446 - mae: 0.6027 - val_loss: 0.7060 - val_mae: 0.6688\n",
      "Epoch 28/100\n",
      "337/337 - 0s - loss: 0.5551 - mae: 0.5969 - val_loss: 0.7147 - val_mae: 0.6734\n",
      "Epoch 29/100\n",
      "337/337 - 0s - loss: 0.5240 - mae: 0.5954 - val_loss: 0.7241 - val_mae: 0.6762\n",
      "Epoch 30/100\n",
      "337/337 - 0s - loss: 0.5589 - mae: 0.5945 - val_loss: 0.6970 - val_mae: 0.6676\n",
      "Epoch 31/100\n",
      "337/337 - 0s - loss: 0.5426 - mae: 0.5860 - val_loss: 0.6760 - val_mae: 0.6638\n",
      "Epoch 32/100\n",
      "337/337 - 0s - loss: 0.4845 - mae: 0.5666 - val_loss: 0.6755 - val_mae: 0.6643\n",
      "Epoch 33/100\n",
      "337/337 - 0s - loss: 0.5025 - mae: 0.5677 - val_loss: 0.7021 - val_mae: 0.6706\n",
      "Epoch 34/100\n",
      "337/337 - 0s - loss: 0.5290 - mae: 0.5890 - val_loss: 0.7181 - val_mae: 0.6742\n",
      "Epoch 35/100\n",
      "337/337 - 0s - loss: 0.5259 - mae: 0.5802 - val_loss: 0.7226 - val_mae: 0.6782\n",
      "Epoch 36/100\n",
      "337/337 - 0s - loss: 0.5293 - mae: 0.5797 - val_loss: 0.7133 - val_mae: 0.6749\n",
      "Epoch 37/100\n",
      "337/337 - 0s - loss: 0.4902 - mae: 0.5668 - val_loss: 0.7242 - val_mae: 0.6752\n",
      "Epoch 38/100\n",
      "337/337 - 0s - loss: 0.5116 - mae: 0.5747 - val_loss: 0.7407 - val_mae: 0.6803\n",
      "Epoch 39/100\n",
      "337/337 - 0s - loss: 0.5140 - mae: 0.5920 - val_loss: 0.7484 - val_mae: 0.6840\n",
      "Epoch 40/100\n",
      "337/337 - 0s - loss: 0.5116 - mae: 0.5819 - val_loss: 0.7576 - val_mae: 0.6891\n",
      "Epoch 41/100\n",
      "337/337 - 0s - loss: 0.5312 - mae: 0.6087 - val_loss: 0.7665 - val_mae: 0.6944\n",
      "Epoch 42/100\n",
      "337/337 - 0s - loss: 0.5030 - mae: 0.5737 - val_loss: 0.7356 - val_mae: 0.6797\n",
      "Epoch 43/100\n",
      "337/337 - 0s - loss: 0.4893 - mae: 0.5721 - val_loss: 0.7127 - val_mae: 0.6669\n",
      "Epoch 44/100\n",
      "337/337 - 0s - loss: 0.4718 - mae: 0.5515 - val_loss: 0.7091 - val_mae: 0.6652\n",
      "Epoch 45/100\n",
      "337/337 - 0s - loss: 0.4926 - mae: 0.5705 - val_loss: 0.7073 - val_mae: 0.6658\n",
      "Epoch 46/100\n",
      "337/337 - 0s - loss: 0.5099 - mae: 0.5741 - val_loss: 0.7161 - val_mae: 0.6713\n",
      "Epoch 47/100\n",
      "337/337 - 0s - loss: 0.4886 - mae: 0.5623 - val_loss: 0.7291 - val_mae: 0.6735\n",
      "Epoch 48/100\n",
      "337/337 - 0s - loss: 0.4849 - mae: 0.5592 - val_loss: 0.7348 - val_mae: 0.6684\n",
      "Epoch 49/100\n",
      "337/337 - 0s - loss: 0.5290 - mae: 0.5850 - val_loss: 0.7133 - val_mae: 0.6639\n",
      "Epoch 50/100\n",
      "337/337 - 0s - loss: 0.5061 - mae: 0.5784 - val_loss: 0.7115 - val_mae: 0.6790\n",
      "Epoch 51/100\n",
      "337/337 - 0s - loss: 0.5261 - mae: 0.5924 - val_loss: 0.6995 - val_mae: 0.6748\n",
      "Epoch 52/100\n",
      "337/337 - 0s - loss: 0.5103 - mae: 0.5744 - val_loss: 0.7048 - val_mae: 0.6742\n",
      "Epoch 53/100\n",
      "337/337 - 0s - loss: 0.4999 - mae: 0.5718 - val_loss: 0.7223 - val_mae: 0.6766\n",
      "Epoch 54/100\n",
      "337/337 - 0s - loss: 0.4833 - mae: 0.5674 - val_loss: 0.7227 - val_mae: 0.6744\n",
      "Epoch 55/100\n",
      "337/337 - 0s - loss: 0.5134 - mae: 0.5795 - val_loss: 0.7246 - val_mae: 0.6782\n",
      "Epoch 56/100\n",
      "337/337 - 0s - loss: 0.5042 - mae: 0.5704 - val_loss: 0.7462 - val_mae: 0.6837\n",
      "Epoch 57/100\n",
      "337/337 - 0s - loss: 0.5023 - mae: 0.5739 - val_loss: 0.7513 - val_mae: 0.6873\n",
      "Epoch 58/100\n",
      "337/337 - 0s - loss: 0.5045 - mae: 0.5717 - val_loss: 0.7491 - val_mae: 0.6834\n",
      "Epoch 59/100\n",
      "337/337 - 0s - loss: 0.4948 - mae: 0.5611 - val_loss: 0.7419 - val_mae: 0.6746\n",
      "Epoch 60/100\n",
      "337/337 - 0s - loss: 0.5305 - mae: 0.5919 - val_loss: 0.7529 - val_mae: 0.6794\n",
      "Epoch 61/100\n",
      "337/337 - 0s - loss: 0.5139 - mae: 0.5695 - val_loss: 0.7524 - val_mae: 0.6847\n",
      "Epoch 62/100\n",
      "337/337 - 0s - loss: 0.4804 - mae: 0.5604 - val_loss: 0.7289 - val_mae: 0.6787\n",
      "Epoch 63/100\n",
      "337/337 - 0s - loss: 0.5131 - mae: 0.5851 - val_loss: 0.7295 - val_mae: 0.6788\n",
      "Epoch 64/100\n",
      "337/337 - 0s - loss: 0.5325 - mae: 0.6023 - val_loss: 0.7555 - val_mae: 0.6845\n",
      "Epoch 65/100\n",
      "337/337 - 0s - loss: 0.5544 - mae: 0.5942 - val_loss: 0.7751 - val_mae: 0.6923\n",
      "Epoch 66/100\n",
      "337/337 - 0s - loss: 0.4939 - mae: 0.5705 - val_loss: 0.7635 - val_mae: 0.6917\n",
      "Epoch 67/100\n",
      "337/337 - 0s - loss: 0.5119 - mae: 0.5761 - val_loss: 0.7468 - val_mae: 0.6847\n",
      "Epoch 68/100\n",
      "337/337 - 0s - loss: 0.5079 - mae: 0.5667 - val_loss: 0.7503 - val_mae: 0.6836\n",
      "Epoch 69/100\n",
      "337/337 - 0s - loss: 0.4601 - mae: 0.5407 - val_loss: 0.7404 - val_mae: 0.6788\n",
      "Epoch 70/100\n",
      "337/337 - 0s - loss: 0.4829 - mae: 0.5683 - val_loss: 0.7365 - val_mae: 0.6797\n",
      "Epoch 71/100\n",
      "337/337 - 0s - loss: 0.5127 - mae: 0.5751 - val_loss: 0.7392 - val_mae: 0.6830\n",
      "Epoch 72/100\n",
      "337/337 - 0s - loss: 0.4762 - mae: 0.5635 - val_loss: 0.7507 - val_mae: 0.6871\n",
      "Epoch 73/100\n",
      "337/337 - 0s - loss: 0.5516 - mae: 0.6026 - val_loss: 0.7538 - val_mae: 0.6918\n",
      "Epoch 74/100\n",
      "337/337 - 0s - loss: 0.4864 - mae: 0.5734 - val_loss: 0.7401 - val_mae: 0.6890\n",
      "Epoch 75/100\n",
      "337/337 - 0s - loss: 0.5009 - mae: 0.5699 - val_loss: 0.7373 - val_mae: 0.6856\n",
      "Epoch 76/100\n",
      "337/337 - 0s - loss: 0.5374 - mae: 0.5827 - val_loss: 0.7410 - val_mae: 0.6846\n",
      "Epoch 77/100\n",
      "337/337 - 0s - loss: 0.5042 - mae: 0.5770 - val_loss: 0.7436 - val_mae: 0.6843\n",
      "Epoch 78/100\n",
      "337/337 - 0s - loss: 0.5287 - mae: 0.5813 - val_loss: 0.7494 - val_mae: 0.6880\n",
      "Epoch 79/100\n",
      "337/337 - 0s - loss: 0.5082 - mae: 0.5683 - val_loss: 0.7460 - val_mae: 0.6814\n",
      "Epoch 80/100\n",
      "337/337 - 0s - loss: 0.4905 - mae: 0.5653 - val_loss: 0.7529 - val_mae: 0.6857\n",
      "Epoch 81/100\n",
      "337/337 - 0s - loss: 0.5535 - mae: 0.6055 - val_loss: 0.7488 - val_mae: 0.6877\n",
      "Epoch 82/100\n",
      "337/337 - 0s - loss: 0.5251 - mae: 0.5771 - val_loss: 0.7685 - val_mae: 0.6929\n",
      "Epoch 83/100\n",
      "337/337 - 0s - loss: 0.5211 - mae: 0.5851 - val_loss: 0.7856 - val_mae: 0.6991\n",
      "Epoch 84/100\n",
      "337/337 - 0s - loss: 0.5231 - mae: 0.5958 - val_loss: 0.7981 - val_mae: 0.7040\n",
      "Epoch 85/100\n",
      "337/337 - 0s - loss: 0.5137 - mae: 0.5670 - val_loss: 0.7726 - val_mae: 0.6914\n",
      "Epoch 86/100\n",
      "337/337 - 0s - loss: 0.5181 - mae: 0.5656 - val_loss: 0.7441 - val_mae: 0.6756\n",
      "Epoch 87/100\n",
      "337/337 - 0s - loss: 0.4803 - mae: 0.5649 - val_loss: 0.7401 - val_mae: 0.6754\n",
      "Epoch 88/100\n",
      "337/337 - 0s - loss: 0.4534 - mae: 0.5440 - val_loss: 0.7489 - val_mae: 0.6816\n",
      "Epoch 89/100\n",
      "337/337 - 0s - loss: 0.5331 - mae: 0.5883 - val_loss: 0.7696 - val_mae: 0.6969\n",
      "Epoch 90/100\n",
      "337/337 - 0s - loss: 0.5174 - mae: 0.5687 - val_loss: 0.7755 - val_mae: 0.7015\n",
      "Epoch 91/100\n",
      "337/337 - 0s - loss: 0.5041 - mae: 0.5809 - val_loss: 0.7711 - val_mae: 0.6961\n",
      "Epoch 92/100\n",
      "337/337 - 0s - loss: 0.4701 - mae: 0.5520 - val_loss: 0.7424 - val_mae: 0.6808\n",
      "Epoch 93/100\n",
      "337/337 - 0s - loss: 0.4878 - mae: 0.5569 - val_loss: 0.7140 - val_mae: 0.6680\n",
      "Epoch 94/100\n",
      "337/337 - 0s - loss: 0.4897 - mae: 0.5585 - val_loss: 0.6918 - val_mae: 0.6611\n",
      "Epoch 95/100\n",
      "337/337 - 0s - loss: 0.4914 - mae: 0.5693 - val_loss: 0.6811 - val_mae: 0.6587\n",
      "Epoch 96/100\n",
      "337/337 - 0s - loss: 0.5304 - mae: 0.5800 - val_loss: 0.7025 - val_mae: 0.6696\n",
      "Epoch 97/100\n",
      "337/337 - 0s - loss: 0.4453 - mae: 0.5471 - val_loss: 0.7001 - val_mae: 0.6697\n",
      "Epoch 98/100\n",
      "337/337 - 0s - loss: 0.5041 - mae: 0.5749 - val_loss: 0.6777 - val_mae: 0.6628\n",
      "Epoch 99/100\n",
      "337/337 - 0s - loss: 0.4840 - mae: 0.5622 - val_loss: 0.6586 - val_mae: 0.6565\n",
      "Epoch 100/100\n",
      "337/337 - 0s - loss: 0.4790 - mae: 0.5648 - val_loss: 0.6657 - val_mae: 0.6595\n"
     ]
    }
   ],
   "source": [
    "# Train the model\n",
    "\n",
    "history = model.fit(train_data, train_targets, epochs=100, validation_split=0.15, batch_size=64,verbose=2)"
   ]
  },
  {
   "cell_type": "markdown",
   "metadata": {},
   "source": [
    "Finally, we plot training and validation loss and accuracy to observe how the accuracy of our model improves over time."
   ]
  },
  {
   "cell_type": "code",
   "execution_count": 13,
   "metadata": {},
   "outputs": [
    {
     "data": {
      "text/plain": [
       "<matplotlib.legend.Legend at 0x7f80d82abb38>"
      ]
     },
     "execution_count": 13,
     "metadata": {},
     "output_type": "execute_result"
    },
    {
     "data": {
      "image/png": "[encoded data removed]",
      "text/plain": [
       "<Figure size 864x288 with 2 Axes>"
      ]
     },
     "metadata": {
      "needs_background": "light"
     },
     "output_type": "display_data"
    }
   ],
   "source": [
    "# Plot the learning curves\n",
    "\n",
    "import pandas as pd\n",
    "import numpy as np\n",
    "import matplotlib.pyplot as plt\n",
    "%matplotlib inline\n",
    "\n",
    "frame = pd.DataFrame(history.history)\n",
    "epochs = np.arange(len(frame))\n",
    "\n",
    "fig = plt.figure(figsize=(12,4))\n",
    "\n",
    "# Loss plot\n",
    "ax = fig.add_subplot(121)\n",
    "ax.plot(epochs, frame['loss'], label=\"Train\")\n",
    "ax.plot(epochs, frame['val_loss'], label=\"Validation\")\n",
    "ax.set_xlabel(\"Epochs\")\n",
    "ax.set_ylabel(\"Loss\")\n",
    "ax.set_title(\"Loss vs Epochs\")\n",
    "ax.legend()\n",
    "\n",
    "# Accuracy plot\n",
    "ax = fig.add_subplot(122)\n",
    "ax.plot(epochs, frame['mae'], label=\"Train\")\n",
    "ax.plot(epochs, frame['val_mae'], label=\"Validation\")\n",
    "ax.set_xlabel(\"Epochs\")\n",
    "ax.set_ylabel(\"Mean Absolute Error\")\n",
    "ax.set_title(\"Mean Absolute Error vs Epochs\")\n",
    "ax.legend()"
   ]
  },
  {
   "cell_type": "markdown",
   "metadata": {},
   "source": [
    "## Further reading and resources \n",
    "* https://keras.io/layers/normalization/\n",
    "* https://www.tensorflow.org/versions/r2.0/api_docs/python/tf/keras/layers/BatchNormalization"
   ]
  },
  {
   "cell_type": "code",
   "execution_count": null,
   "metadata": {},
   "outputs": [],
   "source": []
  }
 ],
 "metadata": {
  "kernelspec": {
   "display_name": "Python 3",
   "language": "python",
   "name": "python3"
  },
  "language_info": {
   "codemirror_mode": {
    "name": "ipython",
    "version": 3
   },
   "file_extension": ".py",
   "mimetype": "text/x-python",
   "name": "python",
   "nbconvert_exporter": "python",
   "pygments_lexer": "ipython3",
   "version": "3.7.1"
  }
 },
 "nbformat": 4,
 "nbformat_minor": 2
}
