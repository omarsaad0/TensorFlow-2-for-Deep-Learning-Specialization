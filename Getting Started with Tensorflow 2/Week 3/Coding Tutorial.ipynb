{
 "cells": [
  {
   "cell_type": "code",
   "execution_count": 2,
   "metadata": {
    "scrolled": true
   },
   "outputs": [
    {
     "name": "stdout",
     "output_type": "stream",
     "text": [
      "2.0.0\n"
     ]
    }
   ],
   "source": [
    "import tensorflow as tf\n",
    "print(tf.__version__)"
   ]
  },
  {
   "cell_type": "markdown",
   "metadata": {},
   "source": [
    "# Validation, regularisation and callbacks"
   ]
  },
  {
   "cell_type": "markdown",
   "metadata": {},
   "source": [
    " ## Coding tutorials\n",
    " #### [1. Validation sets](#coding_tutorial_1)\n",
    " #### [2. Model regularisation](#coding_tutorial_2)\n",
    " #### [3. Introduction to callbacks](#coding_tutorial_3)\n",
    " #### [4. Early stopping / patience](#coding_tutorial_4)"
   ]
  },
  {
   "cell_type": "markdown",
   "metadata": {},
   "source": [
    "***\n",
    "<a id=\"coding_tutorial_1\"></a>\n",
    "## Validation sets"
   ]
  },
  {
   "cell_type": "markdown",
   "metadata": {},
   "source": [
    "#### Load the data"
   ]
  },
  {
   "cell_type": "code",
   "execution_count": 3,
   "metadata": {},
   "outputs": [
    {
     "name": "stdout",
     "output_type": "stream",
     "text": [
      ".. _diabetes_dataset:\n",
      "\n",
      "Diabetes dataset\n",
      "----------------\n",
      "\n",
      "Ten baseline variables, age, sex, body mass index, average blood\n",
      "pressure, and six blood serum measurements were obtained for each of n =\n",
      "442 diabetes patients, as well as the response of interest, a\n",
      "quantitative measure of disease progression one year after baseline.\n",
      "\n",
      "**Data Set Characteristics:**\n",
      "\n",
      "  :Number of Instances: 442\n",
      "\n",
      "  :Number of Attributes: First 10 columns are numeric predictive values\n",
      "\n",
      "  :Target: Column 11 is a quantitative measure of disease progression one year after baseline\n",
      "\n",
      "  :Attribute Information:\n",
      "      - Age\n",
      "      - Sex\n",
      "      - Body mass index\n",
      "      - Average blood pressure\n",
      "      - S1\n",
      "      - S2\n",
      "      - S3\n",
      "      - S4\n",
      "      - S5\n",
      "      - S6\n",
      "\n",
      "Note: Each of these 10 feature variables have been mean centered and scaled by the standard deviation times `n_samples` (i.e. the sum of squares of each column totals 1).\n",
      "\n",
      "Source URL:\n",
      "http://www4.stat.ncsu.edu/~boos/var.select/diabetes.html\n",
      "\n",
      "For more information see:\n",
      "Bradley Efron, Trevor Hastie, Iain Johnstone and Robert Tibshirani (2004) \"Least Angle Regression,\" Annals of Statistics (with discussion), 407-499.\n",
      "(http://web.stanford.edu/~hastie/Papers/LARS/LeastAngle_2002.pdf)\n"
     ]
    }
   ],
   "source": [
    "# Load the diabetes dataset\n",
    "from sklearn.datasets import load_diabetes \n",
    "\n",
    "diabetes_dataset = load_diabetes()\n",
    "print(diabetes_dataset[\"DESCR\"])\n"
   ]
  },
  {
   "cell_type": "code",
   "execution_count": 4,
   "metadata": {},
   "outputs": [],
   "source": [
    "# Save the input and target variables\n",
    "#print(diabetes_dataset.keys())\n",
    "\n",
    "data = diabetes_dataset[\"data\"]\n",
    "targets = diabetes_dataset[\"target\"]\n"
   ]
  },
  {
   "cell_type": "code",
   "execution_count": 5,
   "metadata": {},
   "outputs": [
    {
     "data": {
      "text/plain": [
       "array([-1.47194752e-02, -1.00165882e+00, -1.44579915e-01,  6.99512942e-01,\n",
       "       -2.22496178e-01, -7.15965848e-01, -1.83538046e-01, -1.15749134e+00,\n",
       "       -5.47147277e-01,  2.05006151e+00, -6.64021672e-01, -1.07957508e+00,\n",
       "        3.48889755e-01,  4.26806019e-01, -4.43258925e-01,  2.45001404e-01,\n",
       "        1.80071184e-01, -1.05621783e-01, -7.15965848e-01,  2.06043272e-01,\n",
       "       -1.09256112e+00, -1.33929596e+00, -1.09256112e+00,  1.20596866e+00,\n",
       "        4.13819975e-01,  6.47568766e-01, -1.96524090e-01, -8.71798376e-01,\n",
       "       -2.74440354e-01,  1.69943833e+00, -3.00412442e-01, -1.20943552e+00,\n",
       "        2.45262887e+00, -8.45826288e-01, -1.13151925e+00, -6.51035629e-01,\n",
       "        1.46568953e+00,  1.60853602e+00,  1.29687096e+00, -8.06868156e-01,\n",
       "       -6.77007716e-01, -1.26137969e+00, -1.18346343e+00, -7.80896068e-01,\n",
       "        1.38777327e+00, -1.28735178e+00,  4.91736239e-01, -1.31593871e-01,\n",
       "       -1.00165882e+00, -1.31593871e-01,  3.72247006e-02,  9.46247777e-01,\n",
       "       -1.20943552e+00, -6.25063541e-01,  3.87847887e-01, -3.13398486e-01,\n",
       "       -1.30033783e+00, -1.49512849e+00,  2.32015360e-01,  2.32015360e-01,\n",
       "       -1.18346343e+00, -1.05621783e-01, -1.30033783e+00, -3.13398486e-01,\n",
       "       -1.05360299e+00,  1.41113052e-01, -2.77055191e-02, -7.15965848e-01,\n",
       "        1.02154920e-01,  3.35903711e-01, -1.35228200e+00,  1.53061975e+00,\n",
       "        6.47568766e-01, -5.34161233e-01, -8.71798376e-01, -1.43019827e+00,\n",
       "        2.32015360e-01,  6.21596678e-01,  1.29687096e+00, -5.08189145e-01,\n",
       "       -1.18607827e-01, -1.31332387e+00, -1.30033783e+00,  7.51457118e-01,\n",
       "       -1.13151925e+00, -1.44579915e-01, -1.26137969e+00, -2.35482222e-01,\n",
       "       -1.43019827e+00, -5.34161233e-01, -7.02979804e-01,  1.54099096e-01,\n",
       "       -1.35228200e+00, -7.28951892e-01, -8.06868156e-01,  1.28127008e-01,\n",
       "       -2.77055191e-02,  1.64749415e+00, -7.80896068e-01, -8.97770464e-01,\n",
       "       -3.13398486e-01, -6.51035629e-01,  1.94617316e+00,  5.95624590e-01,\n",
       "       -7.41937936e-01, -1.28735178e+00, -2.35482222e-01, -1.05621783e-01,\n",
       "        1.03715008e+00, -9.23742551e-01, -6.25063541e-01, -1.20943552e+00,\n",
       "        1.21895470e+00,  1.88124294e+00,  1.37478723e+00,  9.98191953e-01,\n",
       "        1.59554997e+00,  1.67346624e+00,  3.48889755e-01,  6.21596678e-01,\n",
       "        6.21596678e-01,  2.70973492e-01,  3.61875799e-01, -8.84784420e-01,\n",
       "       -4.04300794e-01,  1.15140964e-01, -6.89993760e-01, -5.60133321e-01,\n",
       "       -4.82217057e-01,  1.50464767e+00,  1.58256393e+00,  7.61828325e-02,\n",
       "       -5.86105409e-01, -8.97770464e-01, -6.38049585e-01,  1.55659184e+00,\n",
       "       -8.71798376e-01,  1.66048019e+00,  2.38769865e+00,  1.67346624e+00,\n",
       "       -4.43258925e-01,  2.14096382e+00,  1.07610822e+00, -1.19644947e+00,\n",
       "        2.83959536e-01,  1.38777327e+00,  3.35903711e-01, -3.13398486e-01,\n",
       "       -7.28951892e-01, -3.39370574e-01,  1.76436855e+00, -8.32840244e-01,\n",
       "        1.81631272e+00, -1.05360299e+00,  5.82638546e-01,  4.39792063e-01,\n",
       "       -1.65096101e+00, -8.84784420e-01, -7.28951892e-01,  5.56666458e-01,\n",
       "       -1.28735178e+00,  8.42359425e-01,  2.57987448e-01, -2.74440354e-01,\n",
       "        8.03401293e-01, -1.20943552e+00, -1.06658903e+00,  8.81317557e-01,\n",
       "        1.50464767e+00, -1.73343121e-03, -1.36526805e+00, -1.01464486e+00,\n",
       "        1.85527085e+00, -6.64021672e-01, -1.47194752e-02, -3.26384530e-01,\n",
       "        1.10208030e+00,  9.46247777e-01, -9.23742551e-01, -1.47194752e-02,\n",
       "       -5.86105409e-01, -1.14450530e+00, -1.83538046e-01,  4.26806019e-01,\n",
       "        1.46568953e+00, -6.64021672e-01, -1.96524090e-01, -1.18607827e-01,\n",
       "       -1.44579915e-01, -9.49714639e-01,  1.81631272e+00,  3.35903711e-01,\n",
       "       -7.93882112e-01, -4.69231013e-01, -8.58812332e-01, -3.91314750e-01,\n",
       "       -1.04061695e+00, -3.00412442e-01, -1.31593871e-01, -8.06868156e-01,\n",
       "        7.61828325e-02, -1.46915640e+00,  5.69652502e-01,  9.07289645e-01,\n",
       "        1.62152206e+00, -6.89993760e-01,  5.69652502e-01,  6.47568766e-01,\n",
       "        3.72247006e-02, -9.75686727e-01,  5.04722283e-01, -1.06658903e+00,\n",
       "       -1.02763090e+00, -1.33929596e+00, -1.13151925e+00,  1.43971745e+00,\n",
       "        1.24492679e+00,  1.86825690e+00,  8.03401293e-01,  4.26806019e-01,\n",
       "       -9.62700683e-01, -7.67910024e-01,  1.29687096e+00, -2.77055191e-02,\n",
       "       -9.75686727e-01,  7.25485030e-01, -9.75686727e-01, -5.73119365e-01,\n",
       "        1.02154920e-01, -1.28735178e+00,  8.81317557e-01,  2.42386567e-02,\n",
       "        1.38777327e+00, -8.06868156e-01,  1.21895470e+00, -3.65342662e-01,\n",
       "       -1.10554717e+00, -1.04061695e+00,  1.36180118e+00,  1.42673140e+00,\n",
       "        1.59554997e+00,  3.22917667e-01, -1.05360299e+00, -1.36526805e+00,\n",
       "        4.52778107e-01, -3.52356618e-01, -9.62700683e-01, -1.31332387e+00,\n",
       "        1.37478723e+00,  8.16387337e-01,  1.95915920e+00,  1.17999657e+00,\n",
       "       -7.93882112e-01, -2.77055191e-02,  2.05006151e+00,  1.12526127e-02,\n",
       "        2.51755909e+00, -1.15749134e+00, -8.19854200e-01, -1.32630991e+00,\n",
       "       -1.46915640e+00, -6.38049585e-01,  2.02408942e+00, -4.69231013e-01,\n",
       "       -9.26357388e-02, -1.01464486e+00, -1.39124013e+00, -4.82217057e-01,\n",
       "        1.45270349e+00, -8.45826288e-01,  6.47568766e-01, -3.26384530e-01,\n",
       "        3.87847887e-01,  1.15402448e+00, -1.11853321e+00, -7.54923980e-01,\n",
       "        1.69943833e+00, -1.14450530e+00, -6.51035629e-01,  6.21596678e-01,\n",
       "        1.46568953e+00, -7.54923980e-01,  1.01117800e+00,  3.74861843e-01,\n",
       "        5.02107446e-02,  1.05013613e+00, -1.19644947e+00,  8.68331513e-01,\n",
       "       -9.36728595e-01, -1.09256112e+00,  2.33575448e+00,  1.24492679e+00,\n",
       "       -8.84784420e-01,  6.21596678e-01, -1.26137969e+00, -8.71798376e-01,\n",
       "       -8.19854200e-01, -1.57304475e+00, -3.00412442e-01, -8.97770464e-01,\n",
       "        1.59554997e+00, -1.13151925e+00,  5.95624590e-01,  1.08909426e+00,\n",
       "        1.30985701e+00, -3.65342662e-01, -1.40422618e+00,  2.57987448e-01,\n",
       "       -4.95203101e-01, -1.31593871e-01, -5.60133321e-01,  3.61875799e-01,\n",
       "       -1.05621783e-01,  1.41113052e-01, -6.66636509e-02, -7.15965848e-01,\n",
       "        8.81317557e-01,  4.91736239e-01, -5.60133321e-01,  5.04722283e-01,\n",
       "       -3.91314750e-01,  1.01117800e+00,  1.16701052e+00,  1.24492679e+00,\n",
       "        1.25791283e+00,  5.17708327e-01, -2.74440354e-01,  1.10208030e+00,\n",
       "       -9.62700683e-01, -2.22496178e-01,  1.19298261e+00,  6.08610634e-01,\n",
       "        1.53061975e+00,  1.54099096e-01, -1.04061695e+00, -7.28951892e-01,\n",
       "        1.99811734e+00, -7.93882112e-01,  8.03401293e-01, -7.41937936e-01,\n",
       "        8.29373381e-01,  1.43971745e+00,  3.35903711e-01, -5.08189145e-01,\n",
       "        6.21596678e-01, -1.70552003e-01, -1.70552003e-01, -8.32840244e-01,\n",
       "       -5.36776070e-02, -8.32840244e-01,  1.17999657e+00, -1.05360299e+00,\n",
       "       -9.75686727e-01, -5.60133321e-01,  1.55659184e+00, -1.19644947e+00,\n",
       "       -1.27436574e+00,  8.94303601e-01, -8.06868156e-01,  2.06304756e+00,\n",
       "        1.67346624e+00,  3.87847887e-01,  2.19290800e+00, -1.22242156e+00,\n",
       "        1.42673140e+00,  6.99512942e-01,  1.05013613e+00,  1.16701052e+00,\n",
       "       -3.78328706e-01,  1.93057228e-01, -1.15749134e+00,  5.82638546e-01,\n",
       "       -1.05360299e+00,  2.06043272e-01, -1.57565959e-01,  8.42359425e-01,\n",
       "       -4.04300794e-01,  1.07610822e+00,  1.20596866e+00, -1.45617035e+00,\n",
       "       -1.30033783e+00, -6.25063541e-01, -2.61454310e-01, -8.32840244e-01,\n",
       "       -1.07957508e+00,  8.68331513e-01, -1.04061695e+00,  6.34582722e-01,\n",
       "       -5.47147277e-01, -1.31332387e+00,  1.62152206e+00, -1.15749134e+00,\n",
       "       -4.43258925e-01, -1.07957508e+00,  1.56957789e+00,  1.37478723e+00,\n",
       "       -1.41721222e+00,  5.95624590e-01,  1.16701052e+00,  1.03715008e+00,\n",
       "        2.96945580e-01, -7.67910024e-01,  2.06043272e-01,  1.59554997e+00,\n",
       "        1.82929877e+00,  1.67346624e+00, -1.04061695e+00, -1.57565959e-01,\n",
       "        4.78750195e-01,  3.74861843e-01,  7.38471074e-01, -2.09510134e-01,\n",
       "        1.41374536e+00, -5.08189145e-01, -2.74440354e-01,  2.83959536e-01,\n",
       "        1.36180118e+00, -1.26137969e+00, -8.84784420e-01, -1.43019827e+00,\n",
       "       -7.96496949e-02,  7.77429206e-01,  1.05013613e+00, -7.93882112e-01,\n",
       "       -5.34161233e-01, -1.73343121e-03, -4.17286837e-01, -1.10554717e+00,\n",
       "        2.05006151e+00, -7.54923980e-01,  4.00833931e-01, -1.11853321e+00,\n",
       "        2.70973492e-01, -1.04061695e+00, -1.33929596e+00, -1.14450530e+00,\n",
       "       -1.35228200e+00,  3.35903711e-01, -6.25063541e-01, -2.61454310e-01,\n",
       "        8.81317557e-01, -1.23540761e+00])"
      ]
     },
     "execution_count": 5,
     "metadata": {},
     "output_type": "execute_result"
    }
   ],
   "source": [
    "# Normalise the target data (this will make clearer training curves)\n",
    "targets = (targets - targets.mean(axis=0)) / targets.std()\n",
    "targets"
   ]
  },
  {
   "cell_type": "code",
   "execution_count": 6,
   "metadata": {},
   "outputs": [
    {
     "name": "stdout",
     "output_type": "stream",
     "text": [
      "(397, 10)\n",
      "(45, 10)\n",
      "(397,)\n",
      "(45,)\n"
     ]
    }
   ],
   "source": [
    "# Split the data into train and test sets\n",
    "from sklearn.model_selection import train_test_split\n",
    "\n",
    "train_data, test_data, train_targets, test_targets = train_test_split(data, targets, test_size=0.1)\n",
    "\n",
    "print(train_data.shape)\n",
    "print(test_data.shape)\n",
    "print(train_targets.shape)\n",
    "print(test_targets.shape)\n"
   ]
  },
  {
   "cell_type": "markdown",
   "metadata": {},
   "source": [
    "#### Train a feedforward neural network model"
   ]
  },
  {
   "cell_type": "code",
   "execution_count": 7,
   "metadata": {},
   "outputs": [],
   "source": [
    "# Build the model\n",
    "\n",
    "from tensorflow.keras.models import Sequential\n",
    "from tensorflow.keras.layers import Dense\n",
    "\n",
    "def get_model():\n",
    "    model = Sequential([\n",
    "        Dense(128, activation='relu', input_shape=(train_data.shape[1],)),\n",
    "        Dense(128, activation='relu'),\n",
    "        Dense(128, activation='relu'),\n",
    "        Dense(128, activation='relu'),\n",
    "        Dense(128, activation='relu'),\n",
    "        Dense(128, activation='relu'),\n",
    "        Dense(1)\n",
    "    ])\n",
    "    return(model)\n",
    "model = get_model()"
   ]
  },
  {
   "cell_type": "code",
   "execution_count": 8,
   "metadata": {},
   "outputs": [
    {
     "name": "stdout",
     "output_type": "stream",
     "text": [
      "Model: \"sequential\"\n",
      "_________________________________________________________________\n",
      "Layer (type)                 Output Shape              Param #   \n",
      "=================================================================\n",
      "dense (Dense)                (None, 128)               1408      \n",
      "_________________________________________________________________\n",
      "dense_1 (Dense)              (None, 128)               16512     \n",
      "_________________________________________________________________\n",
      "dense_2 (Dense)              (None, 128)               16512     \n",
      "_________________________________________________________________\n",
      "dense_3 (Dense)              (None, 128)               16512     \n",
      "_________________________________________________________________\n",
      "dense_4 (Dense)              (None, 128)               16512     \n",
      "_________________________________________________________________\n",
      "dense_5 (Dense)              (None, 128)               16512     \n",
      "_________________________________________________________________\n",
      "dense_6 (Dense)              (None, 1)                 129       \n",
      "=================================================================\n",
      "Total params: 84,097\n",
      "Trainable params: 84,097\n",
      "Non-trainable params: 0\n",
      "_________________________________________________________________\n"
     ]
    }
   ],
   "source": [
    "# Print the model summary\n",
    "\n",
    "model.summary()"
   ]
  },
  {
   "cell_type": "code",
   "execution_count": 9,
   "metadata": {},
   "outputs": [],
   "source": [
    "# Compile the model\n",
    "\n",
    "model.compile(oprimizer='adam', loss='mse', metrics=['mae'])\n"
   ]
  },
  {
   "cell_type": "code",
   "execution_count": 10,
   "metadata": {},
   "outputs": [
    {
     "name": "stdout",
     "output_type": "stream",
     "text": [
      "Train on 337 samples, validate on 60 samples\n",
      "Epoch 1/100\n",
      "337/337 - 2s - loss: 0.9861 - mae: 0.8521 - val_loss: 0.7935 - val_mae: 0.7539\n",
      "Epoch 2/100\n",
      "337/337 - 0s - loss: 0.6922 - mae: 0.7024 - val_loss: 0.5849 - val_mae: 0.6003\n",
      "Epoch 3/100\n",
      "337/337 - 0s - loss: 0.5916 - mae: 0.6490 - val_loss: 0.5605 - val_mae: 0.5538\n",
      "Epoch 4/100\n",
      "337/337 - 0s - loss: 0.5141 - mae: 0.5982 - val_loss: 0.5749 - val_mae: 0.5621\n",
      "Epoch 5/100\n",
      "337/337 - 0s - loss: 0.4764 - mae: 0.5764 - val_loss: 0.5517 - val_mae: 0.5517\n",
      "Epoch 6/100\n",
      "337/337 - 0s - loss: 0.4605 - mae: 0.5565 - val_loss: 0.7703 - val_mae: 0.7389\n",
      "Epoch 7/100\n",
      "337/337 - 0s - loss: 0.4952 - mae: 0.5912 - val_loss: 0.8240 - val_mae: 0.6668\n",
      "Epoch 8/100\n",
      "337/337 - 0s - loss: 0.4789 - mae: 0.5627 - val_loss: 0.5625 - val_mae: 0.5491\n",
      "Epoch 9/100\n",
      "337/337 - 0s - loss: 0.4419 - mae: 0.5393 - val_loss: 0.5905 - val_mae: 0.5490\n",
      "Epoch 10/100\n",
      "337/337 - 0s - loss: 0.4353 - mae: 0.5327 - val_loss: 0.6753 - val_mae: 0.6037\n",
      "Epoch 11/100\n",
      "337/337 - 0s - loss: 0.5149 - mae: 0.5756 - val_loss: 0.6128 - val_mae: 0.5795\n",
      "Epoch 12/100\n",
      "337/337 - 0s - loss: 0.4534 - mae: 0.5497 - val_loss: 0.6170 - val_mae: 0.5613\n",
      "Epoch 13/100\n",
      "337/337 - 0s - loss: 0.4295 - mae: 0.5347 - val_loss: 0.6215 - val_mae: 0.6037\n",
      "Epoch 14/100\n",
      "337/337 - 0s - loss: 0.4289 - mae: 0.5274 - val_loss: 0.7624 - val_mae: 0.6322\n",
      "Epoch 15/100\n",
      "337/337 - 0s - loss: 0.4386 - mae: 0.5300 - val_loss: 0.6021 - val_mae: 0.5967\n",
      "Epoch 16/100\n",
      "337/337 - 0s - loss: 0.4228 - mae: 0.5276 - val_loss: 0.6645 - val_mae: 0.6488\n",
      "Epoch 17/100\n",
      "337/337 - 0s - loss: 0.4425 - mae: 0.5433 - val_loss: 0.6182 - val_mae: 0.5734\n",
      "Epoch 18/100\n",
      "337/337 - 0s - loss: 0.3975 - mae: 0.5007 - val_loss: 0.5992 - val_mae: 0.5789\n",
      "Epoch 19/100\n",
      "337/337 - 0s - loss: 0.4599 - mae: 0.5497 - val_loss: 0.5791 - val_mae: 0.5763\n",
      "Epoch 20/100\n",
      "337/337 - 0s - loss: 0.3847 - mae: 0.5070 - val_loss: 0.7201 - val_mae: 0.6148\n",
      "Epoch 21/100\n",
      "337/337 - 0s - loss: 0.4205 - mae: 0.5216 - val_loss: 0.7097 - val_mae: 0.6618\n",
      "Epoch 22/100\n",
      "337/337 - 0s - loss: 0.4566 - mae: 0.5461 - val_loss: 0.6392 - val_mae: 0.6313\n",
      "Epoch 23/100\n",
      "337/337 - 0s - loss: 0.4141 - mae: 0.5207 - val_loss: 0.6076 - val_mae: 0.5753\n",
      "Epoch 24/100\n",
      "337/337 - 0s - loss: 0.3954 - mae: 0.5060 - val_loss: 0.7731 - val_mae: 0.6551\n",
      "Epoch 25/100\n",
      "337/337 - 0s - loss: 0.4132 - mae: 0.5179 - val_loss: 0.5840 - val_mae: 0.5578\n",
      "Epoch 26/100\n",
      "337/337 - 0s - loss: 0.3646 - mae: 0.4863 - val_loss: 0.5991 - val_mae: 0.5537\n",
      "Epoch 27/100\n",
      "337/337 - 0s - loss: 0.3781 - mae: 0.4984 - val_loss: 0.5946 - val_mae: 0.5689\n",
      "Epoch 28/100\n",
      "337/337 - 0s - loss: 0.3556 - mae: 0.4859 - val_loss: 0.8032 - val_mae: 0.6526\n",
      "Epoch 29/100\n",
      "337/337 - 0s - loss: 0.4583 - mae: 0.5390 - val_loss: 0.6805 - val_mae: 0.5861\n",
      "Epoch 30/100\n",
      "337/337 - 0s - loss: 0.3480 - mae: 0.4719 - val_loss: 0.6763 - val_mae: 0.6168\n",
      "Epoch 31/100\n",
      "337/337 - 0s - loss: 0.4203 - mae: 0.5060 - val_loss: 0.6361 - val_mae: 0.5907\n",
      "Epoch 32/100\n",
      "337/337 - 0s - loss: 0.3579 - mae: 0.4770 - val_loss: 0.6200 - val_mae: 0.5722\n",
      "Epoch 33/100\n",
      "337/337 - 0s - loss: 0.3668 - mae: 0.4921 - val_loss: 0.6291 - val_mae: 0.5625\n",
      "Epoch 34/100\n",
      "337/337 - 0s - loss: 0.3502 - mae: 0.4691 - val_loss: 0.6096 - val_mae: 0.5609\n",
      "Epoch 35/100\n",
      "337/337 - 0s - loss: 0.3480 - mae: 0.4698 - val_loss: 0.7659 - val_mae: 0.7064\n",
      "Epoch 36/100\n",
      "337/337 - 0s - loss: 0.3670 - mae: 0.4921 - val_loss: 0.6821 - val_mae: 0.5948\n",
      "Epoch 37/100\n",
      "337/337 - 0s - loss: 0.4243 - mae: 0.5127 - val_loss: 0.6540 - val_mae: 0.5911\n",
      "Epoch 38/100\n",
      "337/337 - 0s - loss: 0.3291 - mae: 0.4552 - val_loss: 0.7614 - val_mae: 0.6791\n",
      "Epoch 39/100\n",
      "337/337 - 0s - loss: 0.3979 - mae: 0.5004 - val_loss: 0.6655 - val_mae: 0.5765\n",
      "Epoch 40/100\n",
      "337/337 - 0s - loss: 0.3249 - mae: 0.4446 - val_loss: 0.6786 - val_mae: 0.5974\n",
      "Epoch 41/100\n",
      "337/337 - 0s - loss: 0.3410 - mae: 0.4666 - val_loss: 0.6321 - val_mae: 0.5780\n",
      "Epoch 42/100\n",
      "337/337 - 0s - loss: 0.3041 - mae: 0.4371 - val_loss: 0.6643 - val_mae: 0.5763\n",
      "Epoch 43/100\n",
      "337/337 - 0s - loss: 0.3231 - mae: 0.4513 - val_loss: 0.8680 - val_mae: 0.6834\n",
      "Epoch 44/100\n",
      "337/337 - 0s - loss: 0.4368 - mae: 0.5335 - val_loss: 0.6510 - val_mae: 0.5701\n",
      "Epoch 45/100\n",
      "337/337 - 0s - loss: 0.2909 - mae: 0.4275 - val_loss: 0.7128 - val_mae: 0.6041\n",
      "Epoch 46/100\n",
      "337/337 - 0s - loss: 0.3188 - mae: 0.4426 - val_loss: 0.8016 - val_mae: 0.7010\n",
      "Epoch 47/100\n",
      "337/337 - 0s - loss: 0.3544 - mae: 0.4753 - val_loss: 0.6331 - val_mae: 0.5824\n",
      "Epoch 48/100\n",
      "337/337 - 0s - loss: 0.2846 - mae: 0.4229 - val_loss: 0.6245 - val_mae: 0.5715\n",
      "Epoch 49/100\n",
      "337/337 - 0s - loss: 0.3161 - mae: 0.4476 - val_loss: 0.8396 - val_mae: 0.6739\n",
      "Epoch 50/100\n",
      "337/337 - 0s - loss: 0.3473 - mae: 0.4575 - val_loss: 0.9099 - val_mae: 0.7240\n",
      "Epoch 51/100\n",
      "337/337 - 0s - loss: 0.3794 - mae: 0.4757 - val_loss: 0.6404 - val_mae: 0.5741\n",
      "Epoch 52/100\n",
      "337/337 - 0s - loss: 0.2750 - mae: 0.4162 - val_loss: 0.6309 - val_mae: 0.5644\n",
      "Epoch 53/100\n",
      "337/337 - 0s - loss: 0.2958 - mae: 0.4327 - val_loss: 0.7191 - val_mae: 0.6067\n",
      "Epoch 54/100\n",
      "337/337 - 0s - loss: 0.2896 - mae: 0.4262 - val_loss: 0.7916 - val_mae: 0.6351\n",
      "Epoch 55/100\n",
      "337/337 - 0s - loss: 0.3179 - mae: 0.4488 - val_loss: 0.7168 - val_mae: 0.6119\n",
      "Epoch 56/100\n",
      "337/337 - 0s - loss: 0.3017 - mae: 0.4302 - val_loss: 0.6559 - val_mae: 0.5941\n",
      "Epoch 57/100\n",
      "337/337 - 0s - loss: 0.2678 - mae: 0.4112 - val_loss: 0.7547 - val_mae: 0.6534\n",
      "Epoch 58/100\n",
      "337/337 - 0s - loss: 0.2748 - mae: 0.4228 - val_loss: 0.6678 - val_mae: 0.6045\n",
      "Epoch 59/100\n",
      "337/337 - 0s - loss: 0.2615 - mae: 0.4058 - val_loss: 0.6124 - val_mae: 0.5514\n",
      "Epoch 60/100\n",
      "337/337 - 0s - loss: 0.2476 - mae: 0.3905 - val_loss: 0.6865 - val_mae: 0.5980\n",
      "Epoch 61/100\n",
      "337/337 - 0s - loss: 0.2720 - mae: 0.4095 - val_loss: 0.6317 - val_mae: 0.5794\n",
      "Epoch 62/100\n",
      "337/337 - 0s - loss: 0.3207 - mae: 0.4457 - val_loss: 0.6155 - val_mae: 0.5698\n",
      "Epoch 63/100\n",
      "337/337 - 0s - loss: 0.2413 - mae: 0.3935 - val_loss: 0.6885 - val_mae: 0.5992\n",
      "Epoch 64/100\n",
      "337/337 - 0s - loss: 0.2792 - mae: 0.4263 - val_loss: 0.7008 - val_mae: 0.5844\n",
      "Epoch 65/100\n",
      "337/337 - 0s - loss: 0.2255 - mae: 0.3788 - val_loss: 0.7391 - val_mae: 0.6236\n",
      "Epoch 66/100\n",
      "337/337 - 0s - loss: 0.3022 - mae: 0.4337 - val_loss: 0.9018 - val_mae: 0.7359\n",
      "Epoch 67/100\n",
      "337/337 - 0s - loss: 0.2506 - mae: 0.3917 - val_loss: 0.6836 - val_mae: 0.5812\n",
      "Epoch 68/100\n",
      "337/337 - 0s - loss: 0.2812 - mae: 0.4256 - val_loss: 0.6254 - val_mae: 0.5617\n",
      "Epoch 69/100\n",
      "337/337 - 0s - loss: 0.2064 - mae: 0.3578 - val_loss: 0.6923 - val_mae: 0.5844\n",
      "Epoch 70/100\n",
      "337/337 - 0s - loss: 0.2794 - mae: 0.4144 - val_loss: 0.7031 - val_mae: 0.6120\n",
      "Epoch 71/100\n",
      "337/337 - 0s - loss: 0.2077 - mae: 0.3583 - val_loss: 0.7144 - val_mae: 0.6374\n",
      "Epoch 72/100\n",
      "337/337 - 0s - loss: 0.2630 - mae: 0.4153 - val_loss: 0.6936 - val_mae: 0.6042\n",
      "Epoch 73/100\n",
      "337/337 - 0s - loss: 0.1977 - mae: 0.3479 - val_loss: 0.7663 - val_mae: 0.6352\n",
      "Epoch 74/100\n",
      "337/337 - 0s - loss: 0.2786 - mae: 0.4038 - val_loss: 0.6508 - val_mae: 0.6069\n",
      "Epoch 75/100\n",
      "337/337 - 0s - loss: 0.2206 - mae: 0.3703 - val_loss: 0.6863 - val_mae: 0.5950\n",
      "Epoch 76/100\n",
      "337/337 - 0s - loss: 0.1997 - mae: 0.3539 - val_loss: 0.9364 - val_mae: 0.7491\n",
      "Epoch 77/100\n",
      "337/337 - 0s - loss: 0.2762 - mae: 0.4053 - val_loss: 0.7861 - val_mae: 0.6508\n",
      "Epoch 78/100\n",
      "337/337 - 0s - loss: 0.2515 - mae: 0.3949 - val_loss: 0.7578 - val_mae: 0.6296\n",
      "Epoch 79/100\n",
      "337/337 - 0s - loss: 0.2117 - mae: 0.3585 - val_loss: 0.7137 - val_mae: 0.6126\n",
      "Epoch 80/100\n",
      "337/337 - 0s - loss: 0.1665 - mae: 0.3195 - val_loss: 0.8392 - val_mae: 0.6892\n",
      "Epoch 81/100\n",
      "337/337 - 0s - loss: 0.2948 - mae: 0.4344 - val_loss: 0.6805 - val_mae: 0.5907\n",
      "Epoch 82/100\n",
      "337/337 - 0s - loss: 0.1902 - mae: 0.3401 - val_loss: 0.9025 - val_mae: 0.7457\n",
      "Epoch 83/100\n",
      "337/337 - 0s - loss: 0.2146 - mae: 0.3638 - val_loss: 0.7230 - val_mae: 0.5968\n",
      "Epoch 84/100\n",
      "337/337 - 0s - loss: 0.1637 - mae: 0.3189 - val_loss: 0.7582 - val_mae: 0.6236\n",
      "Epoch 85/100\n",
      "337/337 - 0s - loss: 0.2716 - mae: 0.4158 - val_loss: 0.7303 - val_mae: 0.6213\n",
      "Epoch 86/100\n",
      "337/337 - 0s - loss: 0.1617 - mae: 0.3119 - val_loss: 0.7769 - val_mae: 0.6316\n",
      "Epoch 87/100\n",
      "337/337 - 0s - loss: 0.2587 - mae: 0.4008 - val_loss: 0.6916 - val_mae: 0.5878\n",
      "Epoch 88/100\n",
      "337/337 - 0s - loss: 0.1790 - mae: 0.3311 - val_loss: 0.7178 - val_mae: 0.6439\n",
      "Epoch 89/100\n",
      "337/337 - 0s - loss: 0.2791 - mae: 0.4220 - val_loss: 0.7194 - val_mae: 0.6142\n",
      "Epoch 90/100\n",
      "337/337 - 0s - loss: 0.1585 - mae: 0.3117 - val_loss: 0.7513 - val_mae: 0.6078\n",
      "Epoch 91/100\n",
      "337/337 - 0s - loss: 0.1734 - mae: 0.3301 - val_loss: 0.8502 - val_mae: 0.6634\n",
      "Epoch 92/100\n",
      "337/337 - 0s - loss: 0.2561 - mae: 0.3956 - val_loss: 0.7863 - val_mae: 0.6377\n",
      "Epoch 93/100\n",
      "337/337 - 0s - loss: 0.1665 - mae: 0.3145 - val_loss: 0.7715 - val_mae: 0.6176\n",
      "Epoch 94/100\n",
      "337/337 - 0s - loss: 0.1323 - mae: 0.2799 - val_loss: 0.8493 - val_mae: 0.6493\n",
      "Epoch 95/100\n",
      "337/337 - 0s - loss: 0.2796 - mae: 0.4152 - val_loss: 0.7121 - val_mae: 0.5901\n",
      "Epoch 96/100\n",
      "337/337 - 0s - loss: 0.1405 - mae: 0.2881 - val_loss: 1.1013 - val_mae: 0.8222\n",
      "Epoch 97/100\n",
      "337/337 - 0s - loss: 0.3155 - mae: 0.4459 - val_loss: 0.7720 - val_mae: 0.6186\n",
      "Epoch 98/100\n",
      "337/337 - 0s - loss: 0.1322 - mae: 0.2839 - val_loss: 0.7555 - val_mae: 0.6171\n",
      "Epoch 99/100\n",
      "337/337 - 0s - loss: 0.1243 - mae: 0.2705 - val_loss: 0.8348 - val_mae: 0.6669\n",
      "Epoch 100/100\n",
      "337/337 - 0s - loss: 0.2736 - mae: 0.4217 - val_loss: 0.7409 - val_mae: 0.6111\n"
     ]
    }
   ],
   "source": [
    "# Train the model, with some of the data reserved for validation\n",
    "\n",
    "history = model.fit(train_data, train_targets, epochs=100,\n",
    "                   validation_split=0.15, batch_size=64, verbose=2)"
   ]
  },
  {
   "cell_type": "code",
   "execution_count": 11,
   "metadata": {},
   "outputs": [
    {
     "name": "stdout",
     "output_type": "stream",
     "text": [
      "45/1 - 0s - loss: 0.7336 - mae: 0.6691\n"
     ]
    },
    {
     "data": {
      "text/plain": [
       "[0.7819557428359986, 0.6691007]"
      ]
     },
     "execution_count": 11,
     "metadata": {},
     "output_type": "execute_result"
    }
   ],
   "source": [
    "# Evaluate the model on the test set\n",
    "\n",
    "model.evaluate(test_data, test_targets, verbose=2)"
   ]
  },
  {
   "cell_type": "markdown",
   "metadata": {},
   "source": [
    "#### Plot the learning curves"
   ]
  },
  {
   "cell_type": "code",
   "execution_count": 12,
   "metadata": {},
   "outputs": [],
   "source": [
    "import matplotlib.pyplot as plt\n",
    "%matplotlib inline"
   ]
  },
  {
   "cell_type": "code",
   "execution_count": 13,
   "metadata": {},
   "outputs": [
    {
     "data": {
      "image/png": "[encoded data removed]",
      "text/plain": [
       "<Figure size 432x288 with 1 Axes>"
      ]
     },
     "metadata": {
      "needs_background": "light"
     },
     "output_type": "display_data"
    }
   ],
   "source": [
    "# Plot the training and validation loss\n",
    "\n",
    "plt.plot(history.history['loss'])\n",
    "plt.plot(history.history['val_loss'])\n",
    "plt.title('Loss vs. epochs')\n",
    "plt.ylabel('Loss')\n",
    "plt.xlabel('Epoch')\n",
    "plt.legend(['Training', 'Validation'], loc='upper right')\n",
    "plt.show()"
   ]
  },
  {
   "cell_type": "markdown",
   "metadata": {},
   "source": [
    "***\n",
    "<a id=\"coding_tutorial_2\"></a>\n",
    "## Model regularisation"
   ]
  },
  {
   "cell_type": "markdown",
   "metadata": {},
   "source": [
    "#### Adding regularisation with weight decay and dropout"
   ]
  },
  {
   "cell_type": "code",
   "execution_count": 14,
   "metadata": {},
   "outputs": [],
   "source": [
    "from tensorflow.keras.models import Sequential\n",
    "from tensorflow.keras.layers import Dense\n",
    "from tensorflow.keras.layers import Dropout\n",
    "from tensorflow.keras import regularizers"
   ]
  },
  {
   "cell_type": "code",
   "execution_count": 15,
   "metadata": {},
   "outputs": [],
   "source": [
    "def get_regularised_model(wd, rate):\n",
    "    model = Sequential([\n",
    "        Dense(128, activation=\"relu\", kernel_regularizer=regularizers.l2(wd), input_shape=(train_data.shape[1],)),\n",
    "        Dropout(rate),\n",
    "        Dense(128, kernel_regularizer=regularizers.l2(wd), activation=\"relu\"),\n",
    "        Dropout(rate),\n",
    "        Dense(128, kernel_regularizer=regularizers.l2(wd), activation=\"relu\"),\n",
    "        Dropout(rate),\n",
    "        Dense(128, kernel_regularizer=regularizers.l2(wd), activation=\"relu\"),\n",
    "        Dropout(rate),\n",
    "        Dense(128, kernel_regularizer=regularizers.l2(wd), activation=\"relu\"),\n",
    "        Dropout(rate),\n",
    "        Dense(128, kernel_regularizer=regularizers.l2(wd), activation=\"relu\"),\n",
    "        Dropout(rate),\n",
    "        Dense(1)\n",
    "    ])\n",
    "    return model"
   ]
  },
  {
   "cell_type": "code",
   "execution_count": 16,
   "metadata": {},
   "outputs": [],
   "source": [
    "# Re-build the model with weight decay and dropout layers\n",
    "model = get_regularised_model(1e-5, 0.3)\n"
   ]
  },
  {
   "cell_type": "code",
   "execution_count": 17,
   "metadata": {},
   "outputs": [],
   "source": [
    "# Compile the model\n",
    "model.compile(optimizer='adam', loss='mse', metrics=['mae'])\n"
   ]
  },
  {
   "cell_type": "code",
   "execution_count": 18,
   "metadata": {},
   "outputs": [
    {
     "name": "stdout",
     "output_type": "stream",
     "text": [
      "Train on 337 samples, validate on 60 samples\n",
      "Epoch 1/100\n",
      "337/337 - 2s - loss: 1.0136 - mae: 0.8569 - val_loss: 0.9659 - val_mae: 0.8394\n",
      "Epoch 2/100\n",
      "337/337 - 0s - loss: 1.0065 - mae: 0.8565 - val_loss: 0.9572 - val_mae: 0.8366\n",
      "Epoch 3/100\n",
      "337/337 - 0s - loss: 0.9846 - mae: 0.8504 - val_loss: 0.9059 - val_mae: 0.8119\n",
      "Epoch 4/100\n",
      "337/337 - 0s - loss: 0.9198 - mae: 0.8224 - val_loss: 0.7885 - val_mae: 0.7474\n",
      "Epoch 5/100\n",
      "337/337 - 0s - loss: 0.7733 - mae: 0.7550 - val_loss: 0.6216 - val_mae: 0.6265\n",
      "Epoch 6/100\n",
      "337/337 - 0s - loss: 0.6528 - mae: 0.6882 - val_loss: 0.6139 - val_mae: 0.5705\n",
      "Epoch 7/100\n",
      "337/337 - 0s - loss: 0.6205 - mae: 0.6355 - val_loss: 0.5953 - val_mae: 0.5637\n",
      "Epoch 8/100\n",
      "337/337 - 0s - loss: 0.5944 - mae: 0.6499 - val_loss: 0.6029 - val_mae: 0.5973\n",
      "Epoch 9/100\n",
      "337/337 - 0s - loss: 0.6003 - mae: 0.6475 - val_loss: 0.6335 - val_mae: 0.6134\n",
      "Epoch 10/100\n",
      "337/337 - 0s - loss: 0.5550 - mae: 0.6258 - val_loss: 0.5990 - val_mae: 0.5732\n",
      "Epoch 11/100\n",
      "337/337 - 0s - loss: 0.5159 - mae: 0.5849 - val_loss: 0.6252 - val_mae: 0.5694\n",
      "Epoch 12/100\n",
      "337/337 - 0s - loss: 0.5124 - mae: 0.5723 - val_loss: 0.6357 - val_mae: 0.5775\n",
      "Epoch 13/100\n",
      "337/337 - 0s - loss: 0.5304 - mae: 0.5966 - val_loss: 0.6085 - val_mae: 0.5808\n",
      "Epoch 14/100\n",
      "337/337 - 0s - loss: 0.4898 - mae: 0.5739 - val_loss: 0.6236 - val_mae: 0.5704\n",
      "Epoch 15/100\n",
      "337/337 - 0s - loss: 0.5161 - mae: 0.5891 - val_loss: 0.6306 - val_mae: 0.5838\n",
      "Epoch 16/100\n",
      "337/337 - 0s - loss: 0.5463 - mae: 0.6153 - val_loss: 0.5975 - val_mae: 0.5689\n",
      "Epoch 17/100\n",
      "337/337 - 0s - loss: 0.5050 - mae: 0.5918 - val_loss: 0.5962 - val_mae: 0.5680\n",
      "Epoch 18/100\n",
      "337/337 - 0s - loss: 0.4902 - mae: 0.5754 - val_loss: 0.6027 - val_mae: 0.5604\n",
      "Epoch 19/100\n",
      "337/337 - 0s - loss: 0.4828 - mae: 0.5626 - val_loss: 0.6094 - val_mae: 0.5618\n",
      "Epoch 20/100\n",
      "337/337 - 0s - loss: 0.5540 - mae: 0.5985 - val_loss: 0.6097 - val_mae: 0.5755\n",
      "Epoch 21/100\n",
      "337/337 - 0s - loss: 0.5097 - mae: 0.5924 - val_loss: 0.5755 - val_mae: 0.5700\n",
      "Epoch 22/100\n",
      "337/337 - 0s - loss: 0.4889 - mae: 0.5699 - val_loss: 0.5820 - val_mae: 0.5606\n",
      "Epoch 23/100\n",
      "337/337 - 0s - loss: 0.5049 - mae: 0.5791 - val_loss: 0.6079 - val_mae: 0.5707\n",
      "Epoch 24/100\n",
      "337/337 - 0s - loss: 0.4865 - mae: 0.5656 - val_loss: 0.5728 - val_mae: 0.5617\n",
      "Epoch 25/100\n",
      "337/337 - 0s - loss: 0.4735 - mae: 0.5559 - val_loss: 0.6019 - val_mae: 0.5652\n",
      "Epoch 26/100\n",
      "337/337 - 0s - loss: 0.4724 - mae: 0.5537 - val_loss: 0.6144 - val_mae: 0.5647\n",
      "Epoch 27/100\n",
      "337/337 - 0s - loss: 0.4800 - mae: 0.5711 - val_loss: 0.5875 - val_mae: 0.5671\n",
      "Epoch 28/100\n",
      "337/337 - 0s - loss: 0.4851 - mae: 0.5851 - val_loss: 0.5724 - val_mae: 0.5555\n",
      "Epoch 29/100\n",
      "337/337 - 0s - loss: 0.4711 - mae: 0.5600 - val_loss: 0.5882 - val_mae: 0.5528\n",
      "Epoch 30/100\n",
      "337/337 - 0s - loss: 0.4771 - mae: 0.5603 - val_loss: 0.5641 - val_mae: 0.5472\n",
      "Epoch 31/100\n",
      "337/337 - 0s - loss: 0.4566 - mae: 0.5502 - val_loss: 0.5775 - val_mae: 0.5573\n",
      "Epoch 32/100\n",
      "337/337 - 0s - loss: 0.4580 - mae: 0.5438 - val_loss: 0.6242 - val_mae: 0.5665\n",
      "Epoch 33/100\n",
      "337/337 - 0s - loss: 0.4487 - mae: 0.5438 - val_loss: 0.6069 - val_mae: 0.5680\n",
      "Epoch 34/100\n",
      "337/337 - 0s - loss: 0.4797 - mae: 0.5662 - val_loss: 0.5908 - val_mae: 0.5586\n",
      "Epoch 35/100\n",
      "337/337 - 0s - loss: 0.4494 - mae: 0.5479 - val_loss: 0.6198 - val_mae: 0.5644\n",
      "Epoch 36/100\n",
      "337/337 - 0s - loss: 0.4612 - mae: 0.5519 - val_loss: 0.5863 - val_mae: 0.5480\n",
      "Epoch 37/100\n",
      "337/337 - 0s - loss: 0.4511 - mae: 0.5352 - val_loss: 0.5727 - val_mae: 0.5458\n",
      "Epoch 38/100\n",
      "337/337 - 0s - loss: 0.4635 - mae: 0.5465 - val_loss: 0.5914 - val_mae: 0.5552\n",
      "Epoch 39/100\n",
      "337/337 - 0s - loss: 0.4301 - mae: 0.5275 - val_loss: 0.5799 - val_mae: 0.5437\n",
      "Epoch 40/100\n",
      "337/337 - 0s - loss: 0.4537 - mae: 0.5426 - val_loss: 0.6151 - val_mae: 0.5567\n",
      "Epoch 41/100\n",
      "337/337 - 0s - loss: 0.4298 - mae: 0.5198 - val_loss: 0.6287 - val_mae: 0.5694\n",
      "Epoch 42/100\n",
      "337/337 - 0s - loss: 0.4675 - mae: 0.5417 - val_loss: 0.6025 - val_mae: 0.5682\n",
      "Epoch 43/100\n",
      "337/337 - 0s - loss: 0.4390 - mae: 0.5418 - val_loss: 0.6249 - val_mae: 0.5693\n",
      "Epoch 44/100\n",
      "337/337 - 0s - loss: 0.4360 - mae: 0.5310 - val_loss: 0.6124 - val_mae: 0.5586\n",
      "Epoch 45/100\n",
      "337/337 - 0s - loss: 0.4330 - mae: 0.5232 - val_loss: 0.6008 - val_mae: 0.5501\n",
      "Epoch 46/100\n",
      "337/337 - 0s - loss: 0.4363 - mae: 0.5337 - val_loss: 0.6319 - val_mae: 0.5623\n",
      "Epoch 47/100\n",
      "337/337 - 0s - loss: 0.4174 - mae: 0.5144 - val_loss: 0.6102 - val_mae: 0.5552\n",
      "Epoch 48/100\n",
      "337/337 - 0s - loss: 0.4303 - mae: 0.5271 - val_loss: 0.6179 - val_mae: 0.5651\n",
      "Epoch 49/100\n",
      "337/337 - 0s - loss: 0.4353 - mae: 0.5367 - val_loss: 0.6068 - val_mae: 0.5584\n",
      "Epoch 50/100\n",
      "337/337 - 0s - loss: 0.4285 - mae: 0.5124 - val_loss: 0.6407 - val_mae: 0.5734\n",
      "Epoch 51/100\n",
      "337/337 - 0s - loss: 0.4170 - mae: 0.5217 - val_loss: 0.6090 - val_mae: 0.5643\n",
      "Epoch 52/100\n",
      "337/337 - 0s - loss: 0.4066 - mae: 0.5169 - val_loss: 0.6252 - val_mae: 0.5646\n",
      "Epoch 53/100\n",
      "337/337 - 0s - loss: 0.4173 - mae: 0.5196 - val_loss: 0.6442 - val_mae: 0.5706\n",
      "Epoch 54/100\n",
      "337/337 - 0s - loss: 0.4275 - mae: 0.5211 - val_loss: 0.6542 - val_mae: 0.5821\n",
      "Epoch 55/100\n",
      "337/337 - 0s - loss: 0.4194 - mae: 0.5231 - val_loss: 0.6425 - val_mae: 0.5833\n",
      "Epoch 56/100\n",
      "337/337 - 0s - loss: 0.4370 - mae: 0.5328 - val_loss: 0.6232 - val_mae: 0.5678\n",
      "Epoch 57/100\n",
      "337/337 - 0s - loss: 0.4136 - mae: 0.5084 - val_loss: 0.6760 - val_mae: 0.5971\n",
      "Epoch 58/100\n",
      "337/337 - 0s - loss: 0.4416 - mae: 0.5337 - val_loss: 0.5975 - val_mae: 0.5564\n",
      "Epoch 59/100\n",
      "337/337 - 0s - loss: 0.4325 - mae: 0.5445 - val_loss: 0.6246 - val_mae: 0.5731\n",
      "Epoch 60/100\n",
      "337/337 - 0s - loss: 0.4140 - mae: 0.5138 - val_loss: 0.6243 - val_mae: 0.5653\n",
      "Epoch 61/100\n",
      "337/337 - 0s - loss: 0.4039 - mae: 0.5040 - val_loss: 0.6432 - val_mae: 0.5719\n",
      "Epoch 62/100\n",
      "337/337 - 0s - loss: 0.4069 - mae: 0.5031 - val_loss: 0.6513 - val_mae: 0.5839\n",
      "Epoch 63/100\n",
      "337/337 - 0s - loss: 0.3719 - mae: 0.4794 - val_loss: 0.6084 - val_mae: 0.5617\n",
      "Epoch 64/100\n",
      "337/337 - 0s - loss: 0.4009 - mae: 0.4955 - val_loss: 0.6288 - val_mae: 0.5768\n",
      "Epoch 65/100\n",
      "337/337 - 0s - loss: 0.3762 - mae: 0.4904 - val_loss: 0.6348 - val_mae: 0.5698\n",
      "Epoch 66/100\n",
      "337/337 - 0s - loss: 0.4291 - mae: 0.5089 - val_loss: 0.6263 - val_mae: 0.5655\n",
      "Epoch 67/100\n",
      "337/337 - 0s - loss: 0.4173 - mae: 0.5308 - val_loss: 0.6001 - val_mae: 0.5581\n",
      "Epoch 68/100\n",
      "337/337 - 0s - loss: 0.4319 - mae: 0.5168 - val_loss: 0.6446 - val_mae: 0.5983\n",
      "Epoch 69/100\n",
      "337/337 - 0s - loss: 0.4123 - mae: 0.5219 - val_loss: 0.6012 - val_mae: 0.5561\n",
      "Epoch 70/100\n",
      "337/337 - 0s - loss: 0.4144 - mae: 0.5069 - val_loss: 0.6495 - val_mae: 0.5833\n",
      "Epoch 71/100\n",
      "337/337 - 0s - loss: 0.3892 - mae: 0.4981 - val_loss: 0.6269 - val_mae: 0.5686\n",
      "Epoch 72/100\n",
      "337/337 - 0s - loss: 0.3863 - mae: 0.5002 - val_loss: 0.6082 - val_mae: 0.5582\n",
      "Epoch 73/100\n",
      "337/337 - 0s - loss: 0.3957 - mae: 0.5033 - val_loss: 0.6406 - val_mae: 0.5791\n",
      "Epoch 74/100\n",
      "337/337 - 0s - loss: 0.3718 - mae: 0.4845 - val_loss: 0.6267 - val_mae: 0.5682\n",
      "Epoch 75/100\n",
      "337/337 - 0s - loss: 0.4022 - mae: 0.5119 - val_loss: 0.6504 - val_mae: 0.5770\n",
      "Epoch 76/100\n",
      "337/337 - 0s - loss: 0.3785 - mae: 0.4885 - val_loss: 0.6275 - val_mae: 0.5691\n",
      "Epoch 77/100\n",
      "337/337 - 0s - loss: 0.3742 - mae: 0.4822 - val_loss: 0.6552 - val_mae: 0.5756\n",
      "Epoch 78/100\n",
      "337/337 - 0s - loss: 0.3992 - mae: 0.5032 - val_loss: 0.6327 - val_mae: 0.5697\n",
      "Epoch 79/100\n",
      "337/337 - 0s - loss: 0.3798 - mae: 0.4978 - val_loss: 0.6301 - val_mae: 0.5749\n",
      "Epoch 80/100\n",
      "337/337 - 0s - loss: 0.3680 - mae: 0.4880 - val_loss: 0.6697 - val_mae: 0.5923\n",
      "Epoch 81/100\n",
      "337/337 - 0s - loss: 0.3669 - mae: 0.4842 - val_loss: 0.6488 - val_mae: 0.5776\n",
      "Epoch 82/100\n",
      "337/337 - 0s - loss: 0.3793 - mae: 0.4926 - val_loss: 0.6383 - val_mae: 0.5831\n",
      "Epoch 83/100\n",
      "337/337 - 0s - loss: 0.4239 - mae: 0.5196 - val_loss: 0.6038 - val_mae: 0.5666\n",
      "Epoch 84/100\n",
      "337/337 - 0s - loss: 0.3831 - mae: 0.4914 - val_loss: 0.6643 - val_mae: 0.5864\n",
      "Epoch 85/100\n",
      "337/337 - 0s - loss: 0.3885 - mae: 0.4994 - val_loss: 0.6122 - val_mae: 0.5663\n",
      "Epoch 86/100\n",
      "337/337 - 0s - loss: 0.3765 - mae: 0.4941 - val_loss: 0.6614 - val_mae: 0.5965\n",
      "Epoch 87/100\n",
      "337/337 - 0s - loss: 0.3825 - mae: 0.5041 - val_loss: 0.6526 - val_mae: 0.5816\n",
      "Epoch 88/100\n",
      "337/337 - 0s - loss: 0.3758 - mae: 0.4886 - val_loss: 0.6559 - val_mae: 0.5924\n",
      "Epoch 89/100\n",
      "337/337 - 0s - loss: 0.3812 - mae: 0.5017 - val_loss: 0.6507 - val_mae: 0.5908\n",
      "Epoch 90/100\n",
      "337/337 - 0s - loss: 0.3746 - mae: 0.4869 - val_loss: 0.6932 - val_mae: 0.6089\n",
      "Epoch 91/100\n",
      "337/337 - 0s - loss: 0.4073 - mae: 0.4952 - val_loss: 0.6258 - val_mae: 0.5823\n",
      "Epoch 92/100\n",
      "337/337 - 0s - loss: 0.3674 - mae: 0.4855 - val_loss: 0.6366 - val_mae: 0.5764\n",
      "Epoch 93/100\n",
      "337/337 - 0s - loss: 0.3862 - mae: 0.5044 - val_loss: 0.6545 - val_mae: 0.5852\n",
      "Epoch 94/100\n",
      "337/337 - 0s - loss: 0.3633 - mae: 0.4745 - val_loss: 0.6434 - val_mae: 0.5788\n",
      "Epoch 95/100\n",
      "337/337 - 0s - loss: 0.3601 - mae: 0.4784 - val_loss: 0.6579 - val_mae: 0.5818\n",
      "Epoch 96/100\n",
      "337/337 - 0s - loss: 0.3678 - mae: 0.4887 - val_loss: 0.6359 - val_mae: 0.5758\n",
      "Epoch 97/100\n",
      "337/337 - 0s - loss: 0.3804 - mae: 0.4933 - val_loss: 0.6295 - val_mae: 0.5692\n",
      "Epoch 98/100\n",
      "337/337 - 0s - loss: 0.3439 - mae: 0.4680 - val_loss: 0.6298 - val_mae: 0.5720\n",
      "Epoch 99/100\n",
      "337/337 - 0s - loss: 0.3513 - mae: 0.4791 - val_loss: 0.6641 - val_mae: 0.5884\n",
      "Epoch 100/100\n",
      "337/337 - 0s - loss: 0.3579 - mae: 0.4757 - val_loss: 0.6804 - val_mae: 0.5916\n"
     ]
    }
   ],
   "source": [
    "# Train the model, with some of the data reserved for validation\n",
    "\n",
    "history = model.fit(train_data, train_targets, epochs=100,\n",
    "                   validation_split=0.15, batch_size=64, verbose=2)"
   ]
  },
  {
   "cell_type": "code",
   "execution_count": 19,
   "metadata": {},
   "outputs": [
    {
     "name": "stdout",
     "output_type": "stream",
     "text": [
      "45/1 - 0s - loss: 0.4864 - mae: 0.5813\n"
     ]
    },
    {
     "data": {
      "text/plain": [
       "[0.5492449588245816, 0.5813376]"
      ]
     },
     "execution_count": 19,
     "metadata": {},
     "output_type": "execute_result"
    }
   ],
   "source": [
    "# Evaluate the model on the test set\n",
    "\n",
    "model.evaluate(test_data, test_targets, verbose=2)"
   ]
  },
  {
   "cell_type": "markdown",
   "metadata": {},
   "source": [
    "#### Plot the learning curves"
   ]
  },
  {
   "cell_type": "code",
   "execution_count": 20,
   "metadata": {},
   "outputs": [
    {
     "data": {
      "image/png": "[encoded data removed]",
      "text/plain": [
       "<Figure size 432x288 with 1 Axes>"
      ]
     },
     "metadata": {
      "needs_background": "light"
     },
     "output_type": "display_data"
    }
   ],
   "source": [
    "# Plot the training and validation loss\n",
    "\n",
    "import matplotlib.pyplot as plt\n",
    "\n",
    "plt.plot(history.history['loss'])\n",
    "plt.plot(history.history['val_loss'])\n",
    "plt.title('Loss vs. epochs')\n",
    "plt.ylabel('Loss')\n",
    "plt.xlabel('Epoch')\n",
    "plt.legend(['Training', 'Validation'], loc='upper right')\n",
    "plt.show()"
   ]
  },
  {
   "cell_type": "markdown",
   "metadata": {},
   "source": [
    "***\n",
    "<a id=\"coding_tutorial_3\"></a>\n",
    "## Introduction to callbacks"
   ]
  },
  {
   "cell_type": "markdown",
   "metadata": {},
   "source": [
    "#### Example training callback"
   ]
  },
  {
   "cell_type": "code",
   "execution_count": 21,
   "metadata": {},
   "outputs": [],
   "source": [
    "# Write a custom callback\n",
    "\n",
    "from tensorflow.keras.callbacks import Callback\n",
    "\n",
    "class TrainingCallback(Callback):\n",
    "    \n",
    "    def on_train_begin(self, logs=None):\n",
    "        print(\"Starting training.....\")\n",
    "        \n",
    "    def on_epoch_begin(self, epoch, logs=None):\n",
    "        print(f\"Starting epoch {epoch}\")\n",
    "        \n",
    "    def on_train_batch_begin(Self, batch, logs=None):\n",
    "        print(f\"Training: Starting batch {batch}\")\n",
    "    \n",
    "    def on_train_batch_end(self, batch, logs=None):\n",
    "        print(f\"Training: Finished batch {batch}\")\n",
    "    \n",
    "    def on_epoch_end(self, epoch, logs=None):\n",
    "        print(f\"Finished epoch {epoch}\")\n",
    "    \n",
    "    def on_train_end(self, logs=None):\n",
    "        print(\"Finished training\")"
   ]
  },
  {
   "cell_type": "code",
   "execution_count": 22,
   "metadata": {},
   "outputs": [],
   "source": [
    "from tensorflow.keras.callbacks import Callback\n",
    "class TestingCallback(Callback):\n",
    "    \n",
    "    def on_test_begin(self, logs=None):\n",
    "        print(\"Starting Testing.....\")\n",
    "        \n",
    "    def on_test_batch_begin(Self, batch, logs=None):\n",
    "        print(f\"Testing: Starting batch {batch}\")\n",
    "    \n",
    "    def on_test_batch_end(self, batch, logs=None):\n",
    "        print(f\"Testing: Finished batch {batch}\")\n",
    "    \n",
    "    def on_test_end(self, logs=None):\n",
    "        print(\"Finished Testing\")"
   ]
  },
  {
   "cell_type": "code",
   "execution_count": 23,
   "metadata": {},
   "outputs": [],
   "source": [
    "class PredictionCallback(Callback):\n",
    "    \n",
    "    def on_predict_begin(self, logs=None):\n",
    "        print(\"Starting Predictions.....\")\n",
    "        \n",
    "    def on_predict_batch_begin(Self, batch, logs=None):\n",
    "        print(f\"Predictions: Starting batch {batch}\")\n",
    "    \n",
    "    def on_predict_batch_end(self, batch, logs=None):\n",
    "        print(f\"Predictions: Finished batch {batch}\")\n",
    "    \n",
    "    def on_predict_end(self, logs=None):\n",
    "        print(\"Finished predicting\")"
   ]
  },
  {
   "cell_type": "code",
   "execution_count": 24,
   "metadata": {},
   "outputs": [],
   "source": [
    "# Re-build the model\n",
    "\n",
    "model = get_regularised_model(1e-5, 0.3)"
   ]
  },
  {
   "cell_type": "code",
   "execution_count": 25,
   "metadata": {},
   "outputs": [],
   "source": [
    "# Compile the model\n",
    "\n",
    "model.compile(optimizer='adam', loss='mse')"
   ]
  },
  {
   "cell_type": "markdown",
   "metadata": {},
   "source": [
    "#### Train the model with the callback"
   ]
  },
  {
   "cell_type": "code",
   "execution_count": 26,
   "metadata": {},
   "outputs": [
    {
     "name": "stdout",
     "output_type": "stream",
     "text": [
      "Starting training.....\n",
      "Starting epoch 0\n",
      "Training: Starting batch 0\n",
      "Training: Finished batch 0\n",
      "Training: Starting batch 1\n",
      "Training: Finished batch 1\n",
      "Training: Starting batch 2\n",
      "Training: Finished batch 2\n",
      "Training: Starting batch 3\n",
      "Training: Finished batch 3\n",
      "Finished epoch 0\n",
      "Starting epoch 1\n",
      "Training: Starting batch 0\n",
      "Training: Finished batch 0\n",
      "Training: Starting batch 1\n",
      "Training: Finished batch 1\n",
      "Training: Starting batch 2\n",
      "Training: Finished batch 2\n",
      "Training: Starting batch 3\n",
      "Training: Finished batch 3\n",
      "Finished epoch 1\n",
      "Starting epoch 2\n",
      "Training: Starting batch 0\n",
      "Training: Finished batch 0\n",
      "Training: Starting batch 1\n",
      "Training: Finished batch 1\n",
      "Training: Starting batch 2\n",
      "Training: Finished batch 2\n",
      "Training: Starting batch 3\n",
      "Training: Finished batch 3\n",
      "Finished epoch 2\n",
      "Finished training\n"
     ]
    },
    {
     "data": {
      "text/plain": [
       "<tensorflow.python.keras.callbacks.History at 0x7f7fb832a4a8>"
      ]
     },
     "execution_count": 26,
     "metadata": {},
     "output_type": "execute_result"
    }
   ],
   "source": [
    "# Train the model, with some of the data reserved for validation\n",
    "model.fit(train_data, train_targets, epochs=3, batch_size=128, verbose=False, callbacks=[TrainingCallback()])\n"
   ]
  },
  {
   "cell_type": "code",
   "execution_count": 27,
   "metadata": {},
   "outputs": [
    {
     "name": "stdout",
     "output_type": "stream",
     "text": [
      "Starting Testing.....\n",
      "Testing: Starting batch 0\n",
      "Testing: Finished batch 0\n",
      "Testing: Starting batch 1\n",
      "Testing: Finished batch 1\n",
      "Finished Testing\n"
     ]
    },
    {
     "data": {
      "text/plain": [
       "0.9526961194144354"
      ]
     },
     "execution_count": 27,
     "metadata": {},
     "output_type": "execute_result"
    }
   ],
   "source": [
    "# Evaluate the model\n",
    "\n",
    "model.evaluate(test_data, test_targets, verbose=False, callbacks=[TestingCallback()])"
   ]
  },
  {
   "cell_type": "code",
   "execution_count": 28,
   "metadata": {},
   "outputs": [
    {
     "name": "stdout",
     "output_type": "stream",
     "text": [
      "Starting Predictions.....\n",
      "Predictions: Starting batch 0\n",
      "Predictions: Finished batch 0\n",
      "Predictions: Starting batch 1\n",
      "Predictions: Finished batch 1\n",
      "Finished predicting\n"
     ]
    },
    {
     "data": {
      "text/plain": [
       "array([[ 0.03588578],\n",
       "       [ 0.05638439],\n",
       "       [ 0.02530061],\n",
       "       [ 0.03828479],\n",
       "       [-0.08132552],\n",
       "       [-0.02473307],\n",
       "       [-0.10197912],\n",
       "       [-0.10381686],\n",
       "       [-0.02753333],\n",
       "       [ 0.00141064],\n",
       "       [ 0.01318806],\n",
       "       [-0.07542612],\n",
       "       [ 0.00608474],\n",
       "       [ 0.03526763],\n",
       "       [-0.01149174],\n",
       "       [-0.083369  ],\n",
       "       [-0.07078885],\n",
       "       [ 0.03809523],\n",
       "       [-0.00788529],\n",
       "       [-0.03523815],\n",
       "       [-0.00690893],\n",
       "       [-0.05032004],\n",
       "       [-0.05234443],\n",
       "       [-0.02720218],\n",
       "       [-0.06887939],\n",
       "       [ 0.0068557 ],\n",
       "       [-0.07656615],\n",
       "       [ 0.02965019],\n",
       "       [-0.01506982],\n",
       "       [-0.06594521],\n",
       "       [-0.07760373],\n",
       "       [-0.07404116],\n",
       "       [-0.0242819 ],\n",
       "       [-0.10583048],\n",
       "       [-0.06592582],\n",
       "       [-0.08002105],\n",
       "       [-0.03147271],\n",
       "       [ 0.01224775],\n",
       "       [-0.00241393],\n",
       "       [-0.09658805],\n",
       "       [-0.10055888],\n",
       "       [ 0.02843363],\n",
       "       [ 0.00745514],\n",
       "       [-0.10653213],\n",
       "       [-0.08140218]], dtype=float32)"
      ]
     },
     "execution_count": 28,
     "metadata": {},
     "output_type": "execute_result"
    }
   ],
   "source": [
    "# Make predictions with the model\n",
    "\n",
    "model.predict(test_data, verbose=False, callbacks=[PredictionCallback()])"
   ]
  },
  {
   "cell_type": "markdown",
   "metadata": {},
   "source": [
    "***\n",
    "<a id=\"coding_tutorial_4\"></a>\n",
    "## Early stopping / patience"
   ]
  },
  {
   "cell_type": "markdown",
   "metadata": {},
   "source": [
    "#### Re-train the models with early stopping"
   ]
  },
  {
   "cell_type": "code",
   "execution_count": 42,
   "metadata": {},
   "outputs": [],
   "source": [
    "# Re-train the unregularised model\n",
    "unregularised_model = get_model()\n",
    "unregularised_model.compile(optimizer='adam', loss='mse')\n",
    "unreg_history = unregularised_model.fit(train_data, train_targets, epochs=100, validation_split=0.15,\n",
    "                                       batch_size=64,\n",
    "                                       verbose=False,\n",
    "                                       callbacks=[tf.keras.callbacks.EarlyStopping(patience=2)])"
   ]
  },
  {
   "cell_type": "code",
   "execution_count": 43,
   "metadata": {},
   "outputs": [
    {
     "name": "stdout",
     "output_type": "stream",
     "text": [
      "45/1 - 0s - loss: 0.6144\n"
     ]
    },
    {
     "data": {
      "text/plain": [
       "0.6202218810717265"
      ]
     },
     "execution_count": 43,
     "metadata": {},
     "output_type": "execute_result"
    }
   ],
   "source": [
    "# Evaluate the model on the test set\n",
    "\n",
    "unregularised_model.evaluate(test_data, test_targets, verbose=2)"
   ]
  },
  {
   "cell_type": "code",
   "execution_count": 41,
   "metadata": {},
   "outputs": [],
   "source": [
    "# Re-train the regularised model\n",
    "regularised_model = get_regularised_model(1e-8, 0.2)\n",
    "regularised_model.compile(optimzer='adam', loss='mse')\n",
    "reg_history = regularised_model.fit(train_data, train_targets, epochs=100,\n",
    "                                   validation_split=0.15, batch_size=64, verbose=False,\n",
    "                                    callbacks=[tf.keras.callbacks.EarlyStopping(patience=2)])"
   ]
  },
  {
   "cell_type": "code",
   "execution_count": 44,
   "metadata": {},
   "outputs": [
    {
     "name": "stdout",
     "output_type": "stream",
     "text": [
      "45/1 - 0s - loss: 0.5913\n"
     ]
    },
    {
     "data": {
      "text/plain": [
       "0.5927419463793436"
      ]
     },
     "execution_count": 44,
     "metadata": {},
     "output_type": "execute_result"
    }
   ],
   "source": [
    "# Evaluate the model on the test set\n",
    "\n",
    "regularised_model.evaluate(test_data, test_targets, verbose=2)"
   ]
  },
  {
   "cell_type": "markdown",
   "metadata": {},
   "source": [
    "#### Plot the learning curves"
   ]
  },
  {
   "cell_type": "code",
   "execution_count": 47,
   "metadata": {},
   "outputs": [
    {
     "data": {
      "image/png": "[encoded data removed]",
      "text/plain": [
       "<Figure size 864x360 with 2 Axes>"
      ]
     },
     "metadata": {
      "needs_background": "light"
     },
     "output_type": "display_data"
    }
   ],
   "source": [
    "# Plot the training and validation loss\n",
    "\n",
    "import matplotlib.pyplot as plt\n",
    "\n",
    "fig = plt.figure(figsize=(12, 5))\n",
    "\n",
    "fig.add_subplot(121)\n",
    "\n",
    "plt.plot(unreg_history.history['loss'])\n",
    "plt.plot(unreg_history.history['val_loss'])\n",
    "plt.title('Unregularised model: loss vs. epochs')\n",
    "plt.ylabel('Loss')\n",
    "plt.xlabel('Epoch')\n",
    "plt.legend(['Training', 'Validation'], loc='upper right')\n",
    "\n",
    "fig.add_subplot(122)\n",
    "\n",
    "plt.plot(reg_history.history['loss'])\n",
    "plt.plot(reg_history.history['val_loss'])\n",
    "plt.title('Regularised model: loss vs. epochs')\n",
    "plt.ylabel('Loss')\n",
    "plt.xlabel('Epoch')\n",
    "plt.legend(['Training', 'Validation'], loc='upper right')\n",
    "\n",
    "plt.show()"
   ]
  },
  {
   "cell_type": "code",
   "execution_count": null,
   "metadata": {},
   "outputs": [],
   "source": []
  }
 ],
 "metadata": {
  "kernelspec": {
   "display_name": "Python 3",
   "language": "python",
   "name": "python3"
  },
  "language_info": {
   "codemirror_mode": {
    "name": "ipython",
    "version": 3
   },
   "file_extension": ".py",
   "mimetype": "text/x-python",
   "name": "python",
   "nbconvert_exporter": "python",
   "pygments_lexer": "ipython3",
   "version": "3.7.1"
  }
 },
 "nbformat": 4,
 "nbformat_minor": 2
}
